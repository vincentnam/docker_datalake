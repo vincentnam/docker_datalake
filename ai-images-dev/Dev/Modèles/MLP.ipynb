{
 "cells": [
  {
   "cell_type": "markdown",
   "id": "9d0593ba",
   "metadata": {},
   "source": [
    "### Necessary libraries"
   ]
  },
  {
   "cell_type": "code",
   "execution_count": 48,
   "id": "917022a9",
   "metadata": {},
   "outputs": [],
   "source": [
    "import os\n",
    "import sys\n",
    "import time\n",
    "import numpy\n",
    "import warnings\n",
    "import numpy as np\n",
    "import pandas as pd\n",
    "import seaborn as sb\n",
    "from joblib import dump, load\n",
    "import matplotlib.pyplot as plt\n",
    "from sklearn.naive_bayes import GaussianNB\n",
    "from sklearn.neural_network import MLPClassifier\n",
    "from sklearn.neighbors import KNeighborsClassifier\n",
    "from sklearn.ensemble import RandomForestClassifier\n",
    "from sklearn.linear_model import LogisticRegression\n",
    "from sklearn.inspection import permutation_importance\n",
    "from sklearn.feature_selection import SelectFromModel\n",
    "from sklearn.metrics import classification_report, accuracy_score, confusion_matrix\n",
    "from sklearn.model_selection import KFold, cross_val_score, RandomizedSearchCV, train_test_split"
   ]
  },
  {
   "cell_type": "markdown",
   "id": "4e6ba0c3",
   "metadata": {},
   "source": [
    "### Paths"
   ]
  },
  {
   "cell_type": "code",
   "execution_count": 44,
   "id": "bab528fd",
   "metadata": {},
   "outputs": [
    {
     "name": "stdout",
     "output_type": "stream",
     "text": [
      "['DF_ALL_0.csv', 'DF_ALL_resise.csv', 'Model_RF.joblib', 'Testset.joblib', 'Trainset.joblib']\n"
     ]
    }
   ],
   "source": [
    "#REPOSITORY PATH OF PROJECT\n",
    "(Tempo,_) = os.path.split(os.getcwd())\n",
    "Tempo,_ = os.path.split(Tempo)\n",
    "PATH_PROJECT,DEV = os.path.split(Tempo)\n",
    "PATH_DEV = os.path.join(PATH_PROJECT,'Dev')\n",
    "PATH_DATA = os.path.join(PATH_PROJECT,'Data')\n",
    "PATH_DATA_IMAGES = os.path.join(PATH_DATA,'Data Images')\n",
    "DATA_CBIRH_5_500 = os.path.join(PATH_DATA_IMAGES,'DATA_CBIRH_5_500')\n",
    "PATH_DATA_CSV = os.path.join(os.path.join(PATH_DATA,'Data Descriptors'),'Data Feautures_5_500/All descriptors')\n",
    "LIST_CLASS = os.listdir(PATH_DATA_CSV)\n",
    "print(LIST_CLASS)"
   ]
  },
  {
   "cell_type": "markdown",
   "id": "3f7919ae",
   "metadata": {},
   "source": [
    "### Methods"
   ]
  },
  {
   "cell_type": "code",
   "execution_count": 49,
   "id": "cd18b0e1",
   "metadata": {},
   "outputs": [],
   "source": [
    "# build path\n",
    "def path_build(PATH_DATA_CSV):\n",
    "    List_DF = []\n",
    "    List_DF_without_header = []\n",
    "    for i in os.listdir(PATH_DATA_CSV):\n",
    "        if i.find('SIFT') !=-1 or i.find('FG') !=-1:\n",
    "            List_DF_without_header.append((i,PATH_DATA_CSV+\"/\"+i))\n",
    "        else:\n",
    "            List_DF.append((i,PATH_DATA_CSV+\"/\"+i))\n",
    "    return List_DF,List_DF_without_header\n",
    "\n",
    "#split data to X,y\n",
    "def split_data_without_head(path):\n",
    "    DF = pd.read_csv(path)\n",
    "    DF = DF.iloc[:,1::] \n",
    "    y =  y=DF[DF.columns[-1]] \n",
    "    del DF[DF.columns[-1]]\n",
    "    X = DF\n",
    "    return X,y\n",
    "\n",
    "#plot confusion matrix\n",
    "def plot_confusion_catrix(cm):\n",
    "    \n",
    "    sb.set(rc={'figure.figsize':(8,8)})\n",
    "    sb.set(font_scale=1.4)#for label size\n",
    "    ax = sb.heatmap(cm, annot=True, cmap ='Oranges', cbar=False)\n",
    "    ax.set_title('Confusion Matrix with labels\\n')\n",
    "    ax.set_xlabel('\\nPredicted Label')\n",
    "    ax.set_ylabel('\\nTrue Label ')\n",
    "    _= ax.xaxis.set_ticklabels(['CAR','DOG','FRUIT','PERSON','CAT'])\n",
    "    _= ax.yaxis.set_ticklabels(['CAR','DOG','FRUIT','PERSON','CAT'])\n",
    "    \n",
    "#tuning hyperparameter of model   \n",
    "def hyperparameter_tuning_MultiLayerPerceptron(xtrain,ytrain,xtest,ytest):\n",
    "    start = time.time()\n",
    "    MLP=MLPClassifier()   \n",
    "    parameter_space = {\n",
    "        'hidden_layer_sizes': [(150,100,50), (120,80,40), (100,50,30)],\n",
    "        'max_iter': [50, 100, 150,200,250,300],\n",
    "        'activation': ['tanh', 'relu','logistic','identity'],\n",
    "        'solver': ['sgd', 'adam','lbfgs'],\n",
    "        'alpha': [0.0001, 0.09],\n",
    "        'learning_rate': ['constant','adaptive','invscaling'],\n",
    "    }\n",
    "    kf = KFold(n_splits=5, random_state = 0, shuffle = True)\n",
    "    randomizedsearch = RandomizedSearchCV(estimator=MLP, param_distributions=parameter_space,n_iter = 250,\n",
    "                                          scoring='accuracy', cv= kf)\n",
    "    randomizedsearch.fit(xtrain, ytrain)\n",
    "    end = time.time()\n",
    "    run_time = end - start\n",
    "    print(\"[INFO] Applying took {:.2f} min\".format(run_time/60))\n",
    "    return randomizedsearch\n",
    "\n",
    "#evaluate of result\n",
    "def evaluate(model, test_features, test_labels):\n",
    "    predictions = model.predict(test_features)\n",
    "    accuracy = accuracy_score(test_labels, predictions)\n",
    "    errors = 1-accuracy\n",
    "    Confusion_Matrix = confusion_matrix(test_labels, predictions)\n",
    "    print('[INFO] Model Performance')\n",
    "    print('[INFO] Average Error: {:0.2f} %.'.format(np.mean(errors)))\n",
    "    print('[INFO] Accuracy = {:0.2f}%.'.format(accuracy))\n",
    "    print('[INFO] Classification_report :\\n',classification_report(test_labels,predictions))\n",
    "    print('[INFO] Confusion_Matrix : \\n')\n",
    "    plot_confusion_catrix(Confusion_Matrix)\n",
    "\n",
    "def split_data(DF):\n",
    "    y =  y=DF[DF.columns[-1]] \n",
    "    del DF[DF.columns[-1]]\n",
    "    X = DF\n",
    "    return X,y\n",
    "def read_data(path):\n",
    "    DF = pd.read_csv(path)\n",
    "    DF = DF.iloc[:,1::]\n",
    "    return DF"
   ]
  },
  {
   "cell_type": "code",
   "execution_count": 45,
   "id": "3252a19a",
   "metadata": {},
   "outputs": [
    {
     "name": "stdout",
     "output_type": "stream",
     "text": [
      "Data Features Study :  DF_ALL_0.csv\n",
      "(500, 511)\n"
     ]
    }
   ],
   "source": [
    "num_df = 0\n",
    "List_DF,_ = path_build(PATH_DATA_CSV)\n",
    "print(\"Data Features Study : \",List_DF[num_df][0])\n",
    "X,y = split_data_without_head(List_DF[num_df][1])\n",
    "print(X.shape)"
   ]
  },
  {
   "cell_type": "code",
   "execution_count": 50,
   "id": "d4264acf",
   "metadata": {},
   "outputs": [],
   "source": [
    "df = read_data(PATH_DATA_CSV+\"\\DF_ALL_0.csv\")\n",
    "Trainset = load(PATH_DATA_CSV+\"\\Trainset.joblib\") \n",
    "Testset = load(PATH_DATA_CSV+\"\\Testset.joblib\") "
   ]
  },
  {
   "cell_type": "code",
   "execution_count": 51,
   "id": "d337843d",
   "metadata": {},
   "outputs": [],
   "source": [
    "X_train,y_train = split_data(Trainset)\n",
    "X_test, y_test = split_data(Testset)\n",
    "X,y = split_data(df)"
   ]
  },
  {
   "cell_type": "code",
   "execution_count": 52,
   "id": "ab027547",
   "metadata": {},
   "outputs": [
    {
     "name": "stdout",
     "output_type": "stream",
     "text": [
      "[INFO] Applying took 21.03 min\n"
     ]
    }
   ],
   "source": [
    "with warnings.catch_warnings():\n",
    "    warnings.simplefilter(\"ignore\")\n",
    "    randomizedsearch = hyperparameter_tuning_MultiLayerPerceptron(X_train,y_train, X_test, y_test)"
   ]
  },
  {
   "cell_type": "code",
   "execution_count": 54,
   "id": "aa10a390",
   "metadata": {},
   "outputs": [
    {
     "name": "stdout",
     "output_type": "stream",
     "text": [
      "[INFO] Model Performance\n",
      "[INFO] Average Error: 0.66 %.\n",
      "[INFO] Accuracy = 0.34%.\n",
      "[INFO] Classification_report :\n",
      "               precision    recall  f1-score   support\n",
      "\n",
      "           0       0.60      0.68      0.64        22\n",
      "           1       0.37      0.40      0.38        25\n",
      "           2       0.24      0.15      0.19        26\n",
      "           3       0.21      0.32      0.25        28\n",
      "           4       0.38      0.21      0.27        24\n",
      "\n",
      "    accuracy                           0.34       125\n",
      "   macro avg       0.36      0.35      0.35       125\n",
      "weighted avg       0.35      0.34      0.34       125\n",
      "\n",
      "[INFO] Confusion_Matrix : \n",
      "\n"
     ]
    },
    {
     "data": {
      "image/png": "[encoded data removed]",
      "text/plain": [
       "<Figure size 576x576 with 1 Axes>"
      ]
     },
     "metadata": {},
     "output_type": "display_data"
    }
   ],
   "source": [
    "#X_train, X_test, y_train, y_test = train_test_split(X, y, test_size=0.25, random_state=0)\n",
    "#Train data whith cross validation using Kfold = 5 and shuffle = True\n",
    "#Using best estimator\n",
    "clf = randomizedsearch.best_estimator_\n",
    "#evaluate best estimator\n",
    "evaluate(clf,X_test,y_test)"
   ]
  },
  {
   "cell_type": "code",
   "execution_count": 39,
   "id": "d1db597c",
   "metadata": {},
   "outputs": [
    {
     "data": {
      "image/png": "[encoded data removed]",
      "text/plain": [
       "<Figure size 1080x720 with 1 Axes>"
      ]
     },
     "metadata": {},
     "output_type": "display_data"
    }
   ],
   "source": [
    "score_ = [85,46]\n",
    "list_model = [\"RF\", \"MLP\"]\n",
    "plt.figure(figsize=(15,10))\n",
    "plt.bar(list_model,score_,color=[ 'green','red'])\n",
    "for i,j in enumerate(score_) :\n",
    "    plt.text(i,87,str(int(j))+'%', va = 'center', ha = 'center')\n",
    "plt.xticks(list_model,rotation=0)\n",
    "plt.ylabel(\"Accuracy\\n\")\n",
    "plt.title(\" Comparison of the accuracy \\n\")\n",
    "plt.show()"
   ]
  },
  {
   "cell_type": "code",
   "execution_count": null,
   "id": "60b7b7b7",
   "metadata": {},
   "outputs": [],
   "source": []
  }
 ],
 "metadata": {
  "kernelspec": {
   "display_name": "Python 3",
   "language": "python",
   "name": "python3"
  },
  "language_info": {
   "codemirror_mode": {
    "name": "ipython",
    "version": 3
   },
   "file_extension": ".py",
   "mimetype": "text/x-python",
   "name": "python",
   "nbconvert_exporter": "python",
   "pygments_lexer": "ipython3",
   "version": "3.8.8"
  }
 },
 "nbformat": 4,
 "nbformat_minor": 5
}
