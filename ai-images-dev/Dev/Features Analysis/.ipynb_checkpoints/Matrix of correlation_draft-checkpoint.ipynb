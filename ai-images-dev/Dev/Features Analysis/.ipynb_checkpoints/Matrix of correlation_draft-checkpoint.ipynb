{
 "cells": [
  {
   "cell_type": "code",
   "execution_count": 1,
   "id": "68d802db",
   "metadata": {},
   "outputs": [],
   "source": [
    "import os\n",
    "import sys\n",
    "import time\n",
    "import numpy\n",
    "import warnings\n",
    "import numpy as np\n",
    "import pandas as pd\n",
    "import seaborn as sb\n",
    "import matplotlib.pyplot as plt\n",
    "from sklearn.neural_network import MLPClassifier\n",
    "from sklearn.ensemble import RandomForestClassifier\n",
    "from sklearn.metrics import classification_report, accuracy_score, confusion_matrix\n",
    "from sklearn.model_selection import KFold, cross_val_score, RandomizedSearchCV, train_test_split"
   ]
  },
  {
   "cell_type": "code",
   "execution_count": 2,
   "id": "c803f42a",
   "metadata": {},
   "outputs": [
    {
     "name": "stdout",
     "output_type": "stream",
     "text": [
      "['DF_ALL_0.csv', 'DF_ALL_resise.csv']\n"
     ]
    },
    {
     "data": {
      "text/plain": [
       "2"
      ]
     },
     "execution_count": 2,
     "metadata": {},
     "output_type": "execute_result"
    }
   ],
   "source": [
    "#REPOSITORY PATH OF PROJECT\n",
    "(Tempo,_) = os.path.split(os.getcwd())\n",
    "Tempo,_ = os.path.split(Tempo)\n",
    "PATH_PROJECT,DEV = os.path.split(Tempo)\n",
    "PATH_DEV = os.path.join(PATH_PROJECT,'Dev')\n",
    "PATH_DATA = os.path.join(PATH_PROJECT,'Data')\n",
    "PATH_DATA_IMAGES = os.path.join(PATH_DATA,'Data Images')\n",
    "DATA_CBIRH_5_500 = os.path.join(PATH_DATA_IMAGES,'DATA_CBIRH_5_500')\n",
    "#path of  descriptors\n",
    "PATH_DATA_CSV = os.path.join(os.path.join(os.path.join(PATH_DATA,'Data Descriptors'),'Data Feautures_5_500'),'All descriptors')\n",
    "LIST_CLASS =os.listdir(PATH_DATA_CSV)\n",
    "\n",
    "print(LIST_CLASS)\n",
    "len(LIST_CLASS)"
   ]
  },
  {
   "cell_type": "code",
   "execution_count": 3,
   "id": "03221070",
   "metadata": {},
   "outputs": [],
   "source": [
    "score = []"
   ]
  },
  {
   "cell_type": "code",
   "execution_count": 4,
   "id": "17d279bc",
   "metadata": {},
   "outputs": [],
   "source": [
    "# build path\n",
    "def path_build(PATH_DATA_CSV):\n",
    "    List_DF = []\n",
    "    List_DF_without_header = []\n",
    "    for i in os.listdir(PATH_DATA_CSV):\n",
    "        if i.find('SIFT') !=-1 or i.find('FG') !=-1:\n",
    "            List_DF_without_header.append((i,PATH_DATA_CSV+\"/\"+i))\n",
    "        else:\n",
    "            List_DF.append((i,PATH_DATA_CSV+\"/\"+i))\n",
    "    return List_DF,List_DF_without_header\n",
    "\n",
    "#split data to X,y\n",
    "def split_data_without_head(path):\n",
    "    DF = pd.read_csv(path)\n",
    "    DF = DF.iloc[:,1::] \n",
    "    y =  y=DF[DF.columns[-1]] \n",
    "    del DF[DF.columns[-1]]\n",
    "    X = DF\n",
    "    return X,y\n",
    "\n",
    "#plot confusion matrix\n",
    "def plot_confusion_catrix(cm):\n",
    "    \n",
    "    sb.set(rc={'figure.figsize':(8,8)})\n",
    "    sb.set(font_scale=1.4)#for label size\n",
    "    ax = sb.heatmap(cm, annot=True, cmap ='Oranges', cbar=False)\n",
    "    ax.set_title('Confusion Matrix with labels\\n')\n",
    "    ax.set_xlabel('\\nPredicted Label')\n",
    "    ax.set_ylabel('\\nTrue Label ')\n",
    "    _= ax.xaxis.set_ticklabels(['CAR','DOG','FRUIT','PERSON','CAT'])\n",
    "    _= ax.yaxis.set_ticklabels(['CAR','DOG','FRUIT','PERSON','CAT'])\n",
    "    \n",
    "#tuning hyperparameter of model   \n",
    "def hyperparameter_tuning_randomrorestClassifier(xtrain,ytrain,xtest,ytest):\n",
    "    start = time.time()\n",
    "    rfc=RandomForestClassifier(bootstrap = False)   \n",
    "    param_grid = {  'n_estimators': list(np.arange(100, 1000, 100)),\n",
    "                'criterion' :['gini', 'entropy'],\n",
    "                'max_depth' : np.arange(3, 10, 2),\n",
    "                'min_samples_split' : np.arange(2, 10, 2),\n",
    "                'max_features': ['auto', 'sqrt', 'log2', None],\n",
    "                'bootstrap': [True, False]\n",
    "             }\n",
    "    kf = KFold(n_splits=5, random_state = 0, shuffle = True)\n",
    "    randomizedsearch = RandomizedSearchCV(estimator=rfc, param_distributions=param_grid,scoring='accuracy', cv= kf)\n",
    "    randomizedsearch.fit(xtrain, ytrain)\n",
    "    end = time.time()\n",
    "    run_time = end - start\n",
    "    print(\"[INFO] Applying took {:.2f} seconds\".format(run_time))\n",
    "    return randomizedsearch\n",
    "\n",
    "#tuning hyperparameter of model   \n",
    "def hyperparameter_tuning_MultiLayerPerceptron(xtrain,ytrain,xtest,ytest):\n",
    "    start = time.time()\n",
    "    MLP=MLPClassifier(max_iter=250)   \n",
    "    parameter_space = {\n",
    "        'hidden_layer_sizes': [(150,100,50), (120,80,40), (100,50,30)],\n",
    "        'max_iter': [50, 100, 150],\n",
    "        'activation': ['tanh', 'relu','logistic','identity'],\n",
    "        'solver': ['sgd', 'adam','lbfgs'],\n",
    "        'alpha': [0.0001, 0.09],\n",
    "        'learning_rate': ['constant','adaptive','invscaling'],\n",
    "    }\n",
    "    kf = KFold(n_splits=5, random_state = 0, shuffle = True)\n",
    "    randomizedsearch = RandomizedSearchCV(estimator=MLP, param_distributions=parameter_space,n_iter = 100,\n",
    "                                          scoring='accuracy', cv= kf)\n",
    "    randomizedsearch.fit(xtrain, ytrain)\n",
    "    end = time.time()\n",
    "    run_time = end - start\n",
    "    print(\"[INFO] Applying took {:.2f} seconds\".format(run_time))\n",
    "    return randomizedsearch\n",
    "\n",
    "#evaluate of result\n",
    "def evaluate(model, test_features, test_labels):\n",
    "    predictions = model.predict(test_features)\n",
    "    accuracy = accuracy_score(test_labels, predictions)\n",
    "    errors = 1-accuracy\n",
    "    Confusion_Matrix = confusion_matrix(test_labels, predictions)\n",
    "    print('[INFO] Model Performance')\n",
    "    print('[INFO] Average Error: {:0.2f} %.'.format(np.mean(errors)))\n",
    "    print('[INFO] Accuracy = {:0.2f}%.'.format(accuracy))\n",
    "    print('[INFO] Classification_report :\\n',classification_report(test_labels,predictions))\n",
    "    print('[INFO] Confusion_Matrix : \\n')\n",
    "    plot_confusion_catrix(Confusion_Matrix)\n",
    "    return accuracy*100"
   ]
  },
  {
   "cell_type": "code",
   "execution_count": 5,
   "id": "74cd23cf",
   "metadata": {},
   "outputs": [
    {
     "name": "stdout",
     "output_type": "stream",
     "text": [
      "Data Features Study :  DF_ALL_0.csv\n",
      "(500, 511) 500\n"
     ]
    }
   ],
   "source": [
    "num_df = 0\n",
    "List_DF,_ = path_build(PATH_DATA_CSV)\n",
    "print(\"Data Features Study : \",List_DF[num_df][0])\n",
    "X,y = split_data_without_head(List_DF[num_df][1])\n",
    "print(X.shape, len(y))\n",
    "data_org=X.copy()"
   ]
  },
  {
   "cell_type": "code",
   "execution_count": 6,
   "id": "30e58cdc",
   "metadata": {},
   "outputs": [],
   "source": [
    "correlation_matrix = X.corr(method='pearson')"
   ]
  },
  {
   "cell_type": "markdown",
   "id": "3aa5faf3",
   "metadata": {},
   "source": [
    "plt.figure(figsize=(50, 50))\n",
    "sb.heatmap(correlation_matrix, annot=True)\n",
    "plt.show()"
   ]
  },
  {
   "cell_type": "markdown",
   "id": "1bff3435",
   "metadata": {
    "scrolled": false
   },
   "source": [
    "correlation_matrix.style.background_gradient(cmap='coolwarm')"
   ]
  },
  {
   "cell_type": "code",
   "execution_count": 7,
   "id": "eea0be87",
   "metadata": {},
   "outputs": [],
   "source": [
    "correlated_features = set()\n",
    "\n",
    "for i in range(len(correlation_matrix .columns)):\n",
    "    for j in range(i):\n",
    "        if abs(correlation_matrix.iloc[i, j]) > 0.8:\n",
    "            \n",
    "            colname = correlation_matrix.columns[i]\n",
    "            \n",
    "            correlated_features.add(colname)"
   ]
  },
  {
   "cell_type": "code",
   "execution_count": 8,
   "id": "b7c4ddf6",
   "metadata": {},
   "outputs": [
    {
     "data": {
      "text/plain": [
       "157"
      ]
     },
     "execution_count": 8,
     "metadata": {},
     "output_type": "execute_result"
    }
   ],
   "source": [
    "len(correlated_features)"
   ]
  },
  {
   "cell_type": "code",
   "execution_count": 9,
   "id": "f6f3481f",
   "metadata": {},
   "outputs": [],
   "source": [
    "X.drop(labels=correlated_features, axis=1, inplace=True)"
   ]
  },
  {
   "cell_type": "code",
   "execution_count": 11,
   "id": "453e5137",
   "metadata": {},
   "outputs": [
    {
     "data": {
      "text/plain": [
       "354"
      ]
     },
     "execution_count": 11,
     "metadata": {},
     "output_type": "execute_result"
    }
   ],
   "source": [
    "X.shape[1]"
   ]
  },
  {
   "cell_type": "code",
   "execution_count": 10,
   "id": "436e83d5",
   "metadata": {},
   "outputs": [
    {
     "name": "stdout",
     "output_type": "stream",
     "text": [
      "[INFO] Applying took 189.41 seconds\n",
      "[INFO] Model Performance\n",
      "[INFO] Average Error: 0.15 %.\n",
      "[INFO] Accuracy = 0.85%.\n",
      "[INFO] Classification_report :\n",
      "               precision    recall  f1-score   support\n",
      "\n",
      "           0       0.91      0.95      0.93        22\n",
      "           1       0.71      0.60      0.65        25\n",
      "           2       0.64      0.69      0.67        26\n",
      "           3       0.97      1.00      0.98        28\n",
      "           4       1.00      1.00      1.00        24\n",
      "\n",
      "    accuracy                           0.85       125\n",
      "   macro avg       0.85      0.85      0.85       125\n",
      "weighted avg       0.85      0.85      0.85       125\n",
      "\n",
      "[INFO] Confusion_Matrix : \n",
      "\n"
     ]
    },
    {
     "data": {
      "image/png": "[encoded data removed]",
      "text/plain": [
       "<Figure size 576x576 with 1 Axes>"
      ]
     },
     "metadata": {},
     "output_type": "display_data"
    }
   ],
   "source": [
    "X_train, X_test, y_train, y_test = train_test_split(X, y, test_size=0.25, random_state=0)\n",
    "#Train data whith cross validation using Kfold = 5 and shuffle = True\n",
    "with warnings.catch_warnings():\n",
    "    warnings.simplefilter(\"ignore\")\n",
    "    randomizedsearch = hyperparameter_tuning_randomrorestClassifier(X_train,y_train, X_test, y_test)\n",
    "#Using best estimator\n",
    "clf = randomizedsearch.best_estimator_\n",
    "#evaluate best estimator\n",
    "score.append(evaluate(clf,X_test,y_test))"
   ]
  },
  {
   "cell_type": "code",
   "execution_count": 11,
   "id": "291d18de",
   "metadata": {},
   "outputs": [
    {
     "name": "stdout",
     "output_type": "stream",
     "text": [
      "[INFO] Applying took 486.91 seconds\n",
      "[INFO] Model Performance\n",
      "[INFO] Average Error: 0.86 %.\n",
      "[INFO] Accuracy = 0.14%.\n",
      "[INFO] Classification_report :\n",
      "               precision    recall  f1-score   support\n",
      "\n",
      "           0       0.13      0.45      0.20        22\n",
      "           1       0.19      0.20      0.20        25\n",
      "           2       0.00      0.00      0.00        26\n",
      "           3       0.10      0.07      0.08        28\n",
      "           4       0.00      0.00      0.00        24\n",
      "\n",
      "    accuracy                           0.14       125\n",
      "   macro avg       0.08      0.15      0.10       125\n",
      "weighted avg       0.08      0.14      0.09       125\n",
      "\n",
      "[INFO] Confusion_Matrix : \n",
      "\n"
     ]
    },
    {
     "name": "stderr",
     "output_type": "stream",
     "text": [
      "C:\\Users\\yousra.amrani_adm\\anaconda3\\lib\\site-packages\\sklearn\\metrics\\_classification.py:1318: UndefinedMetricWarning: Precision and F-score are ill-defined and being set to 0.0 in labels with no predicted samples. Use `zero_division` parameter to control this behavior.\n",
      "  _warn_prf(average, modifier, msg_start, len(result))\n",
      "C:\\Users\\yousra.amrani_adm\\anaconda3\\lib\\site-packages\\sklearn\\metrics\\_classification.py:1318: UndefinedMetricWarning: Precision and F-score are ill-defined and being set to 0.0 in labels with no predicted samples. Use `zero_division` parameter to control this behavior.\n",
      "  _warn_prf(average, modifier, msg_start, len(result))\n",
      "C:\\Users\\yousra.amrani_adm\\anaconda3\\lib\\site-packages\\sklearn\\metrics\\_classification.py:1318: UndefinedMetricWarning: Precision and F-score are ill-defined and being set to 0.0 in labels with no predicted samples. Use `zero_division` parameter to control this behavior.\n",
      "  _warn_prf(average, modifier, msg_start, len(result))\n"
     ]
    },
    {
     "data": {
      "image/png": "[encoded data removed]",
      "text/plain": [
       "<Figure size 576x576 with 1 Axes>"
      ]
     },
     "metadata": {},
     "output_type": "display_data"
    }
   ],
   "source": [
    "X_train, X_test, y_train, y_test = train_test_split(X, y, test_size=0.25, random_state=0)\n",
    "#Train data whith cross validation using Kfold = 5 and shuffle = True\n",
    "with warnings.catch_warnings():\n",
    "    warnings.simplefilter(\"ignore\")\n",
    "    randomizedsearch = hyperparameter_tuning_MultiLayerPerceptron(X_train,y_train, X_test, y_test)\n",
    "#Using best estimator\n",
    "clf_MLP = randomizedsearch.best_estimator_\n",
    "#evaluate best estimator\n",
    "score.append(evaluate(clf_MLP,X_test,y_test))"
   ]
  },
  {
   "cell_type": "code",
   "execution_count": 13,
   "id": "3a1eea97",
   "metadata": {},
   "outputs": [
    {
     "name": "stdout",
     "output_type": "stream",
     "text": [
      "[84.8, 13.600000000000001]\n"
     ]
    },
    {
     "data": {
      "text/plain": [
       "Text(0.5, 1.0, '   Graph Showing the accuracy of each data feautures descriptors\\n')"
      ]
     },
     "execution_count": 13,
     "metadata": {},
     "output_type": "execute_result"
    },
    {
     "data": {
      "image/png": "[encoded data removed]",
      "text/plain": [
       "<Figure size 720x360 with 1 Axes>"
      ]
     },
     "metadata": {},
     "output_type": "display_data"
    }
   ],
   "source": [
    "print(score)\n",
    "list_model = [\"RF\", \"MLP\"]\n",
    "plt.figure(figsize=(10,5))\n",
    "plt.bar(list_model,score,color=['orange', 'yellow', 'red','blue', 'green', 'pink','gray', 'black'])\n",
    "for i,j in enumerate(score) :\n",
    "    plt.text(i,90,str(int(j))+'%', va = 'center', ha = 'center')\n",
    "plt.xticks(list_model,rotation=0)\n",
    "plt.ylabel(\"Accuracy\\n\")\n",
    "plt.title(\" Comparison of the accuracy of the two models after correlation\\n\")"
   ]
  },
  {
   "cell_type": "code",
   "execution_count": 11,
   "id": "4ed7a359",
   "metadata": {},
   "outputs": [
    {
     "data": {
      "text/plain": [
       "RandomForestClassifier(criterion='entropy', max_depth=7, max_features=None,\n",
       "                       n_estimators=700)"
      ]
     },
     "execution_count": 11,
     "metadata": {},
     "output_type": "execute_result"
    }
   ],
   "source": [
    "clf"
   ]
  },
  {
   "cell_type": "code",
   "execution_count": 23,
   "id": "ec918294",
   "metadata": {},
   "outputs": [],
   "source": [
    "\"\"\"\n",
    "clf_acp = RandomForestClassifier(criterion='entropy', max_depth=9, max_features='sqrt',min_samples_split=6)\n",
    "clf_acp = RandomForestClassifier(bootstrap=False, max_depth=9, max_features='sqrt',\n",
    "                       min_samples_split=4, n_estimators=500)\n",
    "\"\"\"\n",
    "clf_acp =RandomForestClassifier(criterion='entropy', max_depth=7, max_features=None,\n",
    "                       n_estimators=700)\n",
    "kf = KFold(n_splits=5, random_state = 0, shuffle = True)"
   ]
  },
  {
   "cell_type": "code",
   "execution_count": 24,
   "id": "27317b6d",
   "metadata": {},
   "outputs": [
    {
     "name": "stdout",
     "output_type": "stream",
     "text": [
      "[INFO] Applying took 5.32 seconds\n"
     ]
    }
   ],
   "source": [
    "start = time.time()\n",
    "mean_all = cross_val_score(clf_acp, data_org, y, cv=kf)\n",
    "end = time.time()\n",
    "run_time_all = (end - start)/60\n",
    "print(\"[INFO] Applying took {:.2f} seconds\".format(run_time_all))"
   ]
  },
  {
   "cell_type": "code",
   "execution_count": 44,
   "id": "d9319fad",
   "metadata": {},
   "outputs": [
    {
     "data": {
      "text/plain": [
       "(83.39999999999999, 100.0, 84.0)"
      ]
     },
     "execution_count": 44,
     "metadata": {},
     "output_type": "execute_result"
    }
   ],
   "source": [
    "X_train, X_test, y_train, y_test = train_test_split(data_org, y, test_size=0.25, random_state=0)\n",
    "kf = KFold(n_splits=5, random_state = 0, shuffle = True)\n",
    "model = RandomForestClassifier(criterion='entropy', max_depth=7, max_features=None,n_estimators=700)\n",
    "mean_all = cross_val_score(model, data_org, y, cv=kf, scoring = 'accuracy').mean()\n",
    "model =model.fit(X_train,y_train)\n",
    "#evaluate(model,X_test, y_test) \n",
    "mean_all*100,model.score(X_train,y_train)*100,model.score(X_test, y_test)*100"
   ]
  },
  {
   "cell_type": "code",
   "execution_count": 43,
   "id": "e611ebd7",
   "metadata": {},
   "outputs": [
    {
     "ename": "TypeError",
     "evalue": "'int' object is not iterable",
     "output_type": "error",
     "traceback": [
      "\u001b[1;31m---------------------------------------------------------------------------\u001b[0m",
      "\u001b[1;31mTypeError\u001b[0m                                 Traceback (most recent call last)",
      "\u001b[1;32m<ipython-input-43-cc7708a460c6>\u001b[0m in \u001b[0;36m<module>\u001b[1;34m\u001b[0m\n\u001b[0;32m      5\u001b[0m \u001b[0mmodel\u001b[0m \u001b[1;33m=\u001b[0m\u001b[0mmodel\u001b[0m\u001b[1;33m.\u001b[0m\u001b[0mfit\u001b[0m\u001b[1;33m(\u001b[0m\u001b[0mX_train\u001b[0m\u001b[1;33m,\u001b[0m\u001b[0my_train\u001b[0m\u001b[1;33m)\u001b[0m\u001b[1;33m\u001b[0m\u001b[1;33m\u001b[0m\u001b[0m\n\u001b[0;32m      6\u001b[0m \u001b[1;31m#evaluate(model,X_test, y_test)\u001b[0m\u001b[1;33m\u001b[0m\u001b[1;33m\u001b[0m\u001b[1;33m\u001b[0m\u001b[0m\n\u001b[1;32m----> 7\u001b[1;33m \u001b[0mmean_all\u001b[0m\u001b[1;33m,\u001b[0m\u001b[1;33m*\u001b[0m\u001b[1;36m100\u001b[0m\u001b[1;33m,\u001b[0m\u001b[0mmodel\u001b[0m\u001b[1;33m.\u001b[0m\u001b[0mscore\u001b[0m\u001b[1;33m(\u001b[0m\u001b[0mX_train\u001b[0m\u001b[1;33m,\u001b[0m\u001b[0my_train\u001b[0m\u001b[1;33m)\u001b[0m\u001b[1;33m*\u001b[0m\u001b[1;36m100\u001b[0m\u001b[1;33m,\u001b[0m\u001b[0mmodel\u001b[0m\u001b[1;33m.\u001b[0m\u001b[0mscore\u001b[0m\u001b[1;33m(\u001b[0m\u001b[0mX_test\u001b[0m\u001b[1;33m,\u001b[0m \u001b[0my_test\u001b[0m\u001b[1;33m)\u001b[0m\u001b[1;33m\u001b[0m\u001b[1;33m\u001b[0m\u001b[0m\n\u001b[0m",
      "\u001b[1;31mTypeError\u001b[0m: 'int' object is not iterable"
     ]
    }
   ],
   "source": [
    "X_train, X_test, y_train, y_test = train_test_split(X, y, test_size=0.25, random_state=0)\n",
    "kf = KFold(n_splits=5, random_state = 0, shuffle = True)\n",
    "model = RandomForestClassifier(criterion='entropy', max_depth=7, max_features=None,n_estimators=700)\n",
    "mean_all = cross_val_score(model, data_org, y, cv=kf, scoring = 'accuracy').mean()\n",
    "model =model.fit(X_train,y_train)\n",
    "#evaluate(model,X_test, y_test) \n",
    "mean_all*100,model.score(X_train,y_train)*100,model.score(X_test, y_test)*100"
   ]
  },
  {
   "cell_type": "code",
   "execution_count": 15,
   "id": "ddceb42f",
   "metadata": {},
   "outputs": [
    {
     "name": "stdout",
     "output_type": "stream",
     "text": [
      "[INFO] Applying took 2.73 seconds\n"
     ]
    }
   ],
   "source": [
    "start = time.time()\n",
    "mean_corr = cross_val_score(clf_acp, X, y, cv=kf)\n",
    "end = time.time()\n",
    "run_time_corr = (end - start)/60\n",
    "print(\"[INFO] Applying took {:.2f} seconds\".format(run_time_corr))"
   ]
  },
  {
   "cell_type": "code",
   "execution_count": 31,
   "id": "d44eb4ae",
   "metadata": {},
   "outputs": [
    {
     "name": "stdout",
     "output_type": "stream",
     "text": [
      "[INFO] Model Performance\n",
      "[INFO] Average Error: 0.18 %.\n",
      "[INFO] Accuracy = 0.82%.\n",
      "[INFO] Classification_report :\n",
      "               precision    recall  f1-score   support\n",
      "\n",
      "           0       0.83      0.91      0.87        22\n",
      "           1       0.67      0.64      0.65        25\n",
      "           2       0.64      0.62      0.63        26\n",
      "           3       0.96      0.96      0.96        28\n",
      "           4       0.96      0.96      0.96        24\n",
      "\n",
      "    accuracy                           0.82       125\n",
      "   macro avg       0.81      0.82      0.81       125\n",
      "weighted avg       0.81      0.82      0.81       125\n",
      "\n",
      "[INFO] Confusion_Matrix : \n",
      "\n"
     ]
    },
    {
     "data": {
      "text/plain": [
       "81.6"
      ]
     },
     "execution_count": 31,
     "metadata": {},
     "output_type": "execute_result"
    },
    {
     "data": {
      "image/png": "[encoded data removed]",
      "text/plain": [
       "<Figure size 576x576 with 1 Axes>"
      ]
     },
     "metadata": {},
     "output_type": "display_data"
    }
   ],
   "source": [
    "X_train, X_test, y_train, y_test = train_test_split(X, y, test_size=0.25, random_state=0)\n",
    "#evaluate(clf_acp,X_test,y_test)\n",
    "model = RandomForestClassifier(criterion='entropy', max_depth=7, max_features=None,\n",
    "                       n_estimators=700)\n",
    "model =model.fit(X_train,y_train)\n",
    "evaluate(model,X_test, y_test)"
   ]
  },
  {
   "cell_type": "code",
   "execution_count": 22,
   "id": "c0fa1d28",
   "metadata": {},
   "outputs": [
    {
     "data": {
      "text/html": [
       "<div>\n",
       "<style scoped>\n",
       "    .dataframe tbody tr th:only-of-type {\n",
       "        vertical-align: middle;\n",
       "    }\n",
       "\n",
       "    .dataframe tbody tr th {\n",
       "        vertical-align: top;\n",
       "    }\n",
       "\n",
       "    .dataframe thead th {\n",
       "        text-align: right;\n",
       "    }\n",
       "</style>\n",
       "<table border=\"1\" class=\"dataframe\">\n",
       "  <thead>\n",
       "    <tr style=\"text-align: right;\">\n",
       "      <th></th>\n",
       "      <th>Précision moyenne sans corrélation</th>\n",
       "      <th>Précision sans corrélation</th>\n",
       "      <th>Temps d'execussion all data</th>\n",
       "      <th>Précision moyenne après la corrélation</th>\n",
       "      <th>Précision après la corrélation</th>\n",
       "      <th>Temps d'execussion redect data</th>\n",
       "      <th>Nombre de composantes</th>\n",
       "    </tr>\n",
       "  </thead>\n",
       "  <tbody>\n",
       "    <tr>\n",
       "      <th>0</th>\n",
       "      <td>0.836</td>\n",
       "      <td>[0.87, 0.87, 0.76, 0.82, 0.86]</td>\n",
       "      <td>2.725331</td>\n",
       "      <td>0.822</td>\n",
       "      <td>[0.88, 0.88, 0.7, 0.81, 0.84]</td>\n",
       "      <td>3.591787</td>\n",
       "      <td>354</td>\n",
       "    </tr>\n",
       "  </tbody>\n",
       "</table>\n",
       "</div>"
      ],
      "text/plain": [
       "   Précision moyenne sans corrélation      Précision sans corrélation  \\\n",
       "0                               0.836  [0.87, 0.87, 0.76, 0.82, 0.86]   \n",
       "\n",
       "   Temps d'execussion all data  Précision moyenne après la corrélation  \\\n",
       "0                     2.725331                                   0.822   \n",
       "\n",
       "  Précision après la corrélation  Temps d'execussion redect data  \\\n",
       "0  [0.88, 0.88, 0.7, 0.81, 0.84]                        3.591787   \n",
       "\n",
       "   Nombre de composantes  \n",
       "0                    354  "
      ]
     },
     "execution_count": 22,
     "metadata": {},
     "output_type": "execute_result"
    }
   ],
   "source": [
    "pd.DataFrame({\"Précision moyenne sans corrélation\" : [mean_all.mean()],\n",
    "              \"Précision sans corrélation\" : [mean_all],\n",
    "              \"Temps d'execussion all data\" : [run_time_corr],\n",
    "              \"Précision moyenne après la corrélation\" : [mean_corr.mean()],\n",
    "              \"Précision après la corrélation\" : [mean_corr],\n",
    "              \"Temps d'execussion redect data\" : [run_time_all],         \n",
    "              \"Nombre de composantes\" : [X.shape[1]]})"
   ]
  },
  {
   "cell_type": "code",
   "execution_count": null,
   "id": "b953e08a",
   "metadata": {},
   "outputs": [],
   "source": []
  }
 ],
 "metadata": {
  "kernelspec": {
   "display_name": "Python 3",
   "language": "python",
   "name": "python3"
  },
  "language_info": {
   "codemirror_mode": {
    "name": "ipython",
    "version": 3
   },
   "file_extension": ".py",
   "mimetype": "text/x-python",
   "name": "python",
   "nbconvert_exporter": "python",
   "pygments_lexer": "ipython3",
   "version": "3.8.8"
  }
 },
 "nbformat": 4,
 "nbformat_minor": 5
}
