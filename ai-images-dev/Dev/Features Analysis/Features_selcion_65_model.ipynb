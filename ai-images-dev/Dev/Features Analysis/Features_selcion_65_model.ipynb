{
 "cells": [
  {
   "cell_type": "code",
   "execution_count": 1,
   "id": "98e492fe",
   "metadata": {},
   "outputs": [],
   "source": [
    "# Necessary  packages\n",
    "import os\n",
    "import sys\n",
    "import time\n",
    "import numpy\n",
    "import numpy as np\n",
    "import pandas as pd\n",
    "import seaborn as sb\n",
    "from joblib import dump, load\n",
    "import matplotlib.pyplot as plt\n",
    "from sklearn.ensemble import RandomForestClassifier\n",
    "from sklearn.inspection import permutation_importance\n",
    "from sklearn.feature_selection import SelectFromModel\n",
    "from sklearn.metrics import classification_report, accuracy_score, confusion_matrix\n",
    "from sklearn.model_selection import KFold, cross_val_score, RandomizedSearchCV, train_test_split"
   ]
  },
  {
   "cell_type": "code",
   "execution_count": 2,
   "id": "a761e952",
   "metadata": {},
   "outputs": [
    {
     "name": "stdout",
     "output_type": "stream",
     "text": [
      "['DF_ALL.csv', 'DF_ALL_0.csv', 'Model_RF.joblib', 'RandomForeastModel.joblib', 'RandomForeastModel_0.joblib', 'Testset.joblib', 'Trainset.joblib']\n"
     ]
    }
   ],
   "source": [
    "#REPOSITORY PATH OF PROJECT\n",
    "PATH_DEV_CLEAN = os.getcwd()\n",
    "(PATH_DEV,_) = os.path.split(os.getcwd())\n",
    "PATH_PROJECT,y = os.path.split(PATH_DEV)\n",
    "PATH_DATA = os.path.join(PATH_PROJECT,'Data')\n",
    "PATH_DATA_CBIRH = os.path.join(PATH_DATA,'DATA_CBIRH_1')\n",
    "PATH_DATA_CSV = os.path.join(PATH_DATA,'Data_csv\\All descriptors')\n",
    "LIST_CLASS = os.listdir(PATH_DATA_CBIRH)\n",
    "print(os.listdir(PATH_DATA_CSV))"
   ]
  },
  {
   "cell_type": "code",
   "execution_count": 50,
   "id": "75529c7a",
   "metadata": {},
   "outputs": [],
   "source": [
    "#Read data frame\n",
    "def read_data(path):\n",
    "    DF = pd.read_csv(path)\n",
    "    DF = DF.iloc[:,1::]\n",
    "    return DF\n",
    "\n",
    "#split data frame\n",
    "def split_data(DF):\n",
    "    DF = DF.iloc[:,1::]\n",
    "    y =  y=DF[DF.columns[-1]] \n",
    "    del DF[DF.columns[-1]]\n",
    "    X = DF\n",
    "    return X,y\n",
    "\n",
    "#plot confusion matrix\n",
    "def plot_confusion_catrix(cm):\n",
    "    \n",
    "    sb.set(rc={'figure.figsize':(8,8)})\n",
    "    sb.set(font_scale=1.4)#for label size\n",
    "    ax = sb.heatmap(cm, annot=True, cmap ='Oranges', cbar=False)\n",
    "    ax.set_title('Confusion Matrix with labels\\n')\n",
    "    ax.set_xlabel('\\nPredicted Label')\n",
    "    ax.set_ylabel('\\nTrue Label ')\n",
    "    _= ax.xaxis.set_ticklabels(['CAR','DOG','FRUIT','PERSON','CAT'])\n",
    "    _= ax.yaxis.set_ticklabels(['CAR','DOG','FRUIT','PERSON','CAT'])\n",
    "    \n",
    "#evaluate of result\n",
    "def evaluate(model, test_features, test_labels):\n",
    "    predictions = model.predict(test_features)\n",
    "    accuracy = accuracy_score(test_labels, predictions)\n",
    "    errors = 1-accuracy\n",
    "    Confusion_Matrix = confusion_matrix(test_labels, predictions)\n",
    "    print('Model Performance')\n",
    "    print('Average Error: {:0.2f} %.'.format(np.mean(errors)))\n",
    "    print('Accuracy = {:0.2f}%.'.format(accuracy))\n",
    "    print('Classification_report :\\n',classification_report(test_labels,predictions))\n",
    "    print('Confusion_Matrix : \\n')\n",
    "    plot_confusion_catrix(Confusion_Matrix)\n",
    "\n",
    "# feature selection\n",
    "def select_features(X_train, y_train, X_test, max_depth, max_features):\n",
    "    # configure to select a subset of features\n",
    "    # learn relationship from training data\n",
    "    fs = SelectFromModel(RandomForestClassifier(n_estimators=200,criterion ='entropy', max_depth=max_depth),\n",
    "                         max_features=max_features)    \n",
    "    fs.fit(X_train, y_train)\n",
    "    # transform train input data\n",
    "    X_train_fs = fs.transform(X_train)\n",
    "    X_test_fs = fs.transform(X_test)\n",
    "    # transform test input data\n",
    "    return X_train_fs, X_test_fs, fs\n",
    "\n",
    "#tuning hyperparameter of model   \n",
    "def hyperparameter_tuning_randomforestClassifier(xtrain,ytrain,xtest,ytest):\n",
    "    start = time.time()\n",
    "    rfc=RandomForestClassifier(bootstrap = False)   \n",
    "    param_grid = {  'n_estimators': list(np.arange(100, 500, 100)),\n",
    "                'criterion' :['gini', 'entropy'],\n",
    "                'max_depth' : np.arange(3, 10, 2),\n",
    "                'min_samples_split' : np.arange(2, 10, 2),\n",
    "                'max_features': ['auto', 'sqrt', 'log2', None],\n",
    "                'bootstrap': [False]\n",
    "             }\n",
    "    kf = KFold(n_splits=5, random_state = 0, shuffle = True)\n",
    "    randomizedsearch = RandomizedSearchCV(estimator=rfc, param_distributions=param_grid,n_iter = 150,\n",
    "                                          scoring='accuracy', cv= kf)\n",
    "    randomizedsearch.fit(xtrain, ytrain)\n",
    "    end = time.time()\n",
    "    run_time = end - start\n",
    "    print(\"[INFO] Applying took {:.2f} min\".format(run_time/60))\n",
    "    return randomizedsearch"
   ]
  },
  {
   "cell_type": "markdown",
   "id": "e73bb1fb",
   "metadata": {},
   "source": [
    "### Work with 511 caracteristiques "
   ]
  },
  {
   "cell_type": "code",
   "execution_count": 7,
   "id": "8411b4aa",
   "metadata": {},
   "outputs": [],
   "source": [
    "# Model RF + Data Frame + Data Frame Split (Train+Test) : 511 caracteristiques\n",
    "clf = load(PATH_DATA_CSV+\"\\Model_RF.joblib\")\n",
    "df = read_data(PATH_DATA_CSV+\"\\DF_ALL.csv\")\n",
    "Trainset = load(PATH_DATA_CSV+\"\\Trainset.joblib\") \n",
    "Testset = load(PATH_DATA_CSV+\"\\Testset.joblib\") "
   ]
  },
  {
   "cell_type": "code",
   "execution_count": 10,
   "id": "6d1f06ad",
   "metadata": {},
   "outputs": [],
   "source": [
    "# Split Dataframe\n",
    "Xtrain,ytrain = split_data(Trainset)\n",
    "Xtest, ytest = split_data(Testset)\n",
    "X,y = split_data(df)"
   ]
  },
  {
   "cell_type": "code",
   "execution_count": 33,
   "id": "28cc770a",
   "metadata": {},
   "outputs": [
    {
     "data": {
      "text/plain": [
       "RandomForestClassifier(bootstrap=False, max_depth=7, max_features='log2',\n",
       "                       n_estimators=700)"
      ]
     },
     "execution_count": 33,
     "metadata": {},
     "output_type": "execute_result"
    }
   ],
   "source": [
    "#Train model\n",
    "clf.fit(Xtrain,ytrain)"
   ]
  },
  {
   "cell_type": "code",
   "execution_count": 34,
   "id": "7d52a6da",
   "metadata": {},
   "outputs": [
    {
     "name": "stdout",
     "output_type": "stream",
     "text": [
      "[INFO] Nombre total de caractéristiques = 511 \n",
      "[INFO] Nombre de caractéristiques selectionnées = 65 \n"
     ]
    }
   ],
   "source": [
    "# Summarize feature importance\n",
    "importance_=[]\n",
    "list_index = []\n",
    "importance_all=[]\n",
    "importance_features_importances = clf.feature_importances_\n",
    "\n",
    "print(\"[INFO] Nombre total de caractéristiques = {} \".format(len(importance_features_importances)))\n",
    "for i,v in enumerate(importance_features_importances):\n",
    "    if v!=0:\n",
    "        importance_all.append(v)\n",
    "    if v>0.004 : \n",
    "        #print('Feature: %0d, Score: %.5f' % (i,v))\n",
    "        importance_.append(v)\n",
    "        list_index.append(str(i))\n",
    "print(\"[INFO] Nombre de caractéristiques selectionnées = {} \".format(len(importance_)))"
   ]
  },
  {
   "cell_type": "code",
   "execution_count": 35,
   "id": "14e40322",
   "metadata": {},
   "outputs": [
    {
     "name": "stdout",
     "output_type": "stream",
     "text": [
      "65\n"
     ]
    },
    {
     "data": {
      "text/plain": [
       "Index(['1', '3', '4', '5', '6', '7', '9', '12', '13', '14', '17', '18', '27',\n",
       "       '32', '33', '34', '36', '37', '38', '39', '42', '43', '44', '52', '53',\n",
       "       '54', '56', '57', '58', '59', '63', '64', '67', '68', '69', '70', '71',\n",
       "       '72', '73', '74', '77', '78', '79', '82', '83', '84', '85', '87', '88',\n",
       "       '89', '90', '91', '92', '93', '94', '95', '96', '109', '110', '241',\n",
       "       '242', '305', '373', '374', '425'],\n",
       "      dtype='object')"
      ]
     },
     "execution_count": 35,
     "metadata": {},
     "output_type": "execute_result"
    }
   ],
   "source": [
    "#Filter of scores by threshold = 0.4%\n",
    "feat_importances = pd.Series(importance_features_importances, index=Xtrain.columns)\n",
    "columns_importances = feat_importances[lambda x: x>0.004].index\n",
    "print(len(columns_importances))\n",
    "# index of features with score more than 0.4%\n",
    "columns_importances"
   ]
  },
  {
   "cell_type": "code",
   "execution_count": 39,
   "id": "70c8f241",
   "metadata": {},
   "outputs": [],
   "source": [
    "#Methgode of reduce dimension of vectors\n",
    "def reduce_dim(vect):\n",
    "    columns_importances = ['1', '3', '4', '5', '6', '7', '9', '12', '13', '14', '17', '18', '27',\n",
    "       '32', '33', '34', '36', '37', '38', '39', '42', '43', '44', '52', '53',\n",
    "       '54', '56', '57', '58', '59', '63', '64', '67', '68', '69', '70', '71',\n",
    "       '72', '73', '74', '77', '78', '79', '82', '83', '84', '85', '87', '88',\n",
    "       '89', '90', '91', '92', '93', '94', '95', '96', '109', '110', '241',\n",
    "       '242', '305', '373', '374', '425']\n",
    "    return [vect[int(i)] for i in columns_importances]"
   ]
  },
  {
   "cell_type": "code",
   "execution_count": 43,
   "id": "a4ecc082",
   "metadata": {},
   "outputs": [
    {
     "name": "stdout",
     "output_type": "stream",
     "text": [
      "Model Performance\n",
      "Average Error: 0.14 %.\n",
      "Accuracy = 0.86%.\n",
      "Classification_report :\n",
      "               precision    recall  f1-score   support\n",
      "\n",
      "           0       0.85      1.00      0.92        17\n",
      "           1       0.72      0.68      0.70        19\n",
      "           2       0.70      0.67      0.68        21\n",
      "           3       1.00      1.00      1.00        25\n",
      "           4       1.00      0.94      0.97        18\n",
      "\n",
      "    accuracy                           0.86       100\n",
      "   macro avg       0.85      0.86      0.86       100\n",
      "weighted avg       0.86      0.86      0.86       100\n",
      "\n",
      "Confusion_Matrix : \n",
      "\n"
     ]
    },
    {
     "data": {
      "image/png": "[encoded data removed]",
      "text/plain": [
       "<Figure size 576x576 with 1 Axes>"
      ]
     },
     "metadata": {},
     "output_type": "display_data"
    }
   ],
   "source": [
    "#evaluate best estimator with 511 caracteristiques\n",
    "evaluate(clf,Xtest,ytest)"
   ]
  },
  {
   "cell_type": "markdown",
   "id": "5e2ea482",
   "metadata": {},
   "source": [
    "### Work with 511 caracteristiques "
   ]
  },
  {
   "cell_type": "code",
   "execution_count": 45,
   "id": "079d74c2",
   "metadata": {},
   "outputs": [],
   "source": [
    "# Selectionnement des caractéristiques importante \"65\"\n",
    "Xtrain_fs, Xtest_fs, fs = select_features(Xtrain, ytrain, Xtest, max_depth=7, max_features=65)"
   ]
  },
  {
   "cell_type": "code",
   "execution_count": 51,
   "id": "28ea48d4",
   "metadata": {},
   "outputs": [
    {
     "name": "stdout",
     "output_type": "stream",
     "text": [
      "[INFO] Applying took 9.98 min\n"
     ]
    }
   ],
   "source": [
    "#Chercher les meilleurs parammetres pouyr le modèle randomforest\n",
    "randomizedsearch_fs = hyperparameter_tuning_randomforestClassifier(Xtrain_fs,ytrain, Xtest_fs, ytest)"
   ]
  },
  {
   "cell_type": "code",
   "execution_count": 52,
   "id": "f9108834",
   "metadata": {},
   "outputs": [
    {
     "name": "stdout",
     "output_type": "stream",
     "text": [
      "[INFO] Applying took 0.05 min\n",
      "[INFO] Accuracy 83.25 %\n"
     ]
    }
   ],
   "source": [
    "clf_fs = randomizedsearch_fs.best_estimator_\n",
    "kf = KFold(n_splits=5, random_state = 0, shuffle = True)\n",
    "start = time.time()\n",
    "mean_all = cross_val_score(clf_fs, Xtrain_fs, ytrain, cv=kf, scoring = 'accuracy').mean()\n",
    "end = time.time()\n",
    "run_time_all = (end - start)\n",
    "print(\"[INFO] Applying took {:.2f} min\".format(run_time_all/60))\n",
    "print(\"[INFO] Accuracy {:.2f} %\".format(mean_all*100))"
   ]
  },
  {
   "cell_type": "code",
   "execution_count": 54,
   "id": "97d93bc4",
   "metadata": {},
   "outputs": [
    {
     "name": "stdout",
     "output_type": "stream",
     "text": [
      "[INFO] Applying took 0.01 min\n",
      "Model Performance\n",
      "Average Error: 0.17 %.\n",
      "Accuracy = 0.83%.\n",
      "Classification_report :\n",
      "               precision    recall  f1-score   support\n",
      "\n",
      "           0       0.81      1.00      0.89        17\n",
      "           1       0.82      0.47      0.60        19\n",
      "           2       0.59      0.76      0.67        21\n",
      "           3       1.00      0.96      0.98        25\n",
      "           4       1.00      0.94      0.97        18\n",
      "\n",
      "    accuracy                           0.83       100\n",
      "   macro avg       0.84      0.83      0.82       100\n",
      "weighted avg       0.85      0.83      0.83       100\n",
      "\n",
      "Confusion_Matrix : \n",
      "\n"
     ]
    },
    {
     "data": {
      "image/png": "[encoded data removed]",
      "text/plain": [
       "<Figure size 576x576 with 1 Axes>"
      ]
     },
     "metadata": {},
     "output_type": "display_data"
    }
   ],
   "source": [
    "start = time.time()\n",
    "model_fs = clf_fs.fit(Xtrain_fs,ytrain)\n",
    "end = time.time()\n",
    "run_time = (end - start)\n",
    "print(\"[INFO] Applying took {:.2f} min\".format(run_time/60))\n",
    "evaluate(model_fs,Xtest_fs, ytest)"
   ]
  },
  {
   "cell_type": "code",
   "execution_count": 55,
   "id": "e1d31888",
   "metadata": {},
   "outputs": [
    {
     "data": {
      "text/plain": [
       "['C:\\\\Users\\\\abdelkrim.saouabe\\\\Desktop\\\\Modis\\\\Projets\\\\Data Lake\\\\Phase_2\\\\Data\\\\Data_csv\\\\All descriptors\\\\RandomForeast_Model_65.joblib']"
      ]
     },
     "execution_count": 55,
     "metadata": {},
     "output_type": "execute_result"
    }
   ],
   "source": [
    "# Save the model of 65 caracteristiques\n",
    "dump(model_fs,PATH_DATA_CSV+\"\\RandomForeast_Model_65.joblib\")"
   ]
  },
  {
   "cell_type": "code",
   "execution_count": null,
   "id": "8af8ac26",
   "metadata": {},
   "outputs": [],
   "source": []
  }
 ],
 "metadata": {
  "kernelspec": {
   "display_name": "Python 3",
   "language": "python",
   "name": "python3"
  },
  "language_info": {
   "codemirror_mode": {
    "name": "ipython",
    "version": 3
   },
   "file_extension": ".py",
   "mimetype": "text/x-python",
   "name": "python",
   "nbconvert_exporter": "python",
   "pygments_lexer": "ipython3",
   "version": "3.8.8"
  }
 },
 "nbformat": 4,
 "nbformat_minor": 5
}
