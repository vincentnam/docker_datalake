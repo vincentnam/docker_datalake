{
 "cells": [
  {
   "cell_type": "markdown",
   "id": "5751a3a9",
   "metadata": {},
   "source": [
    "### Necessary libraries"
   ]
  },
  {
   "cell_type": "code",
   "execution_count": 5,
   "id": "4bfc96ec",
   "metadata": {},
   "outputs": [],
   "source": [
    "import os\n",
    "import sys\n",
    "import time\n",
    "import numpy\n",
    "import warnings\n",
    "import numpy as np\n",
    "import pandas as pd\n",
    "import seaborn as sb\n",
    "from joblib import dump, load\n",
    "import matplotlib.pyplot as plt\n",
    "from sklearn.neural_network import MLPClassifier\n",
    "from sklearn.ensemble import RandomForestClassifier\n",
    "from sklearn.metrics import classification_report, accuracy_score, confusion_matrix\n",
    "from sklearn.model_selection import KFold, cross_val_score, RandomizedSearchCV, train_test_split"
   ]
  },
  {
   "cell_type": "markdown",
   "id": "c54bddf2",
   "metadata": {},
   "source": [
    "### Paths"
   ]
  },
  {
   "cell_type": "code",
   "execution_count": 2,
   "id": "c459ecd5",
   "metadata": {},
   "outputs": [
    {
     "name": "stdout",
     "output_type": "stream",
     "text": [
      "['DF_ALL.csv', 'Model_RF.joblib', 'Testset.joblib', 'Trainset.joblib']\n"
     ]
    }
   ],
   "source": [
    "#REPOSITORY PATH OF PROJECT\n",
    "PATH_DEV_CLEAN = os.getcwd()\n",
    "(PATH_DEV,_) = os.path.split(os.getcwd())\n",
    "PATH_PROJECT,y = os.path.split(PATH_DEV)\n",
    "PATH_DATA = os.path.join(PATH_PROJECT,'Data')\n",
    "PATH_DATA_CBIRH = os.path.join(PATH_DATA,'DATA_CBIRH_1')\n",
    "PATH_DATA_CSV = os.path.join(PATH_DATA,'Data_csv\\All descriptors')\n",
    "\n",
    "LIST_CLASS = os.listdir(PATH_DATA_CBIRH)\n",
    "print(os.listdir(PATH_DATA_CSV))"
   ]
  },
  {
   "cell_type": "markdown",
   "id": "e3e72075",
   "metadata": {},
   "source": [
    "### Methods"
   ]
  },
  {
   "cell_type": "code",
   "execution_count": 3,
   "id": "8a361761",
   "metadata": {},
   "outputs": [],
   "source": [
    "#tuning hyperparameter of model   \n",
    "def hyperparameter_tuning_randomforestClassifier(xtrain,ytrain,xtest,ytest):\n",
    "    start = time.time()\n",
    "    rfc=RandomForestClassifier(bootstrap = False)   \n",
    "    param_grid = {  'n_estimators': list(np.arange(100, 1000, 100)),\n",
    "                'criterion' :['gini', 'entropy'],\n",
    "                'max_depth' : np.arange(3, 10, 2),\n",
    "                'min_samples_split' : np.arange(2, 10, 2),\n",
    "                'max_features': ['auto', 'sqrt', 'log2', None],\n",
    "                'bootstrap': [True, False]\n",
    "             }\n",
    "    kf = KFold(n_splits=5, random_state = 0, shuffle = True)\n",
    "    randomizedsearch = RandomizedSearchCV(estimator=rfc, param_distributions=param_grid,n_iter = 150,\n",
    "                                          scoring='accuracy', cv= kf)\n",
    "    randomizedsearch.fit(xtrain, ytrain)\n",
    "    end = time.time()\n",
    "    run_time = end - start\n",
    "    print(\"[INFO] Applying took {:.2f} min\".format(run_time/60))\n",
    "    return randomizedsearch\n",
    "\n",
    "#plot confusion matrix\n",
    "def plot_confusion_catrix(cm):\n",
    "    \n",
    "    sb.set(rc={'figure.figsize':(8,8)})\n",
    "    sb.set(font_scale=1.4)#for label size\n",
    "    ax = sb.heatmap(cm, annot=True, cmap ='Oranges', cbar=False)\n",
    "    ax.set_title('Confusion Matrix with labels\\n')\n",
    "    ax.set_xlabel('\\nPredicted Label')\n",
    "    ax.set_ylabel('\\nTrue Label ')\n",
    "    _= ax.xaxis.set_ticklabels(['CAR','DOG','FRUIT','PERSON','CAT'])\n",
    "    _= ax.yaxis.set_ticklabels(['CAR','DOG','FRUIT','PERSON','CAT'])\n",
    "#evaluate of result\n",
    "def evaluate(model, test_features, test_labels):\n",
    "    predictions = model.predict(test_features)\n",
    "    accuracy = accuracy_score(test_labels, predictions)\n",
    "    errors = 1-accuracy\n",
    "    Confusion_Matrix = confusion_matrix(test_labels, predictions)\n",
    "    print('Model Performance')\n",
    "    print('Average Error: {:0.2f} %.'.format(np.mean(errors)))\n",
    "    print('Accuracy = {:0.2f}%.'.format(accuracy))\n",
    "    print('Classification_report :\\n',classification_report(test_labels,predictions))\n",
    "    print('Confusion_Matrix : \\n')\n",
    "    plot_confusion_catrix(Confusion_Matrix)\n",
    "\n",
    "    \n",
    "def split_data(DF):\n",
    "    y =  y=DF[DF.columns[-1]] \n",
    "    del DF[DF.columns[-1]]\n",
    "    X = DF\n",
    "    return X,y\n",
    "def read_data(path):\n",
    "    DF = pd.read_csv(path)\n",
    "    DF = DF.iloc[:,1::]\n",
    "    return DF"
   ]
  },
  {
   "cell_type": "markdown",
   "id": "22885a97",
   "metadata": {},
   "source": [
    "### Import Model + Trainset + Testset + Data All"
   ]
  },
  {
   "cell_type": "code",
   "execution_count": 34,
   "id": "cb4e08a5",
   "metadata": {},
   "outputs": [],
   "source": [
    "clf = load(PATH_DATA_CSV+\"\\Model_RF.joblib\")\n",
    "df = read_data(PATH_DATA_CSV+\"\\DF_ALL.csv\")\n",
    "Trainset = load(PATH_DATA_CSV+\"\\Trainset.joblib\") \n",
    "Testset = load(PATH_DATA_CSV+\"\\Testset.joblib\") "
   ]
  },
  {
   "cell_type": "markdown",
   "id": "34b1d83d",
   "metadata": {},
   "source": [
    "### Split Data"
   ]
  },
  {
   "cell_type": "code",
   "execution_count": 35,
   "id": "af4e5e63",
   "metadata": {},
   "outputs": [],
   "source": [
    "Xtrain,ytrain = split_data(Trainset)\n",
    "Xtest, ytest = split_data(Testset)\n",
    "X,y = split_data(df)"
   ]
  },
  {
   "cell_type": "code",
   "execution_count": 36,
   "id": "3b82642e",
   "metadata": {},
   "outputs": [],
   "source": [
    "Xtrain_corr = Xtrain.copy()\n",
    "Xtest_corr = Xtest.copy()\n",
    "X_copy=X.copy()"
   ]
  },
  {
   "cell_type": "markdown",
   "id": "c35cac2c",
   "metadata": {},
   "source": [
    "### Corrélation"
   ]
  },
  {
   "cell_type": "code",
   "execution_count": 37,
   "id": "e7e8a9f0",
   "metadata": {},
   "outputs": [],
   "source": [
    "correlation_matrix = X.corr(method='pearson')"
   ]
  },
  {
   "cell_type": "code",
   "execution_count": 38,
   "id": "9cddeeed",
   "metadata": {},
   "outputs": [],
   "source": [
    "correlated_features = set()\n",
    "\n",
    "for i in range(len(correlation_matrix .columns)):\n",
    "    for j in range(i):\n",
    "        if abs(correlation_matrix.iloc[i, j]) > 0.8:\n",
    "            \n",
    "            colname = correlation_matrix.columns[i]\n",
    "            \n",
    "            correlated_features.add(colname)"
   ]
  },
  {
   "cell_type": "code",
   "execution_count": 40,
   "id": "b6095ace",
   "metadata": {},
   "outputs": [],
   "source": [
    "#X.drop(labels=correlated_features, axis=1, inplace=True)\n",
    "Xtrain_corr.drop(labels=correlated_features, axis=1, inplace=True)\n",
    "Xtest_corr.drop(labels=correlated_features, axis=1, inplace=True)"
   ]
  },
  {
   "cell_type": "code",
   "execution_count": 51,
   "id": "f95acb55",
   "metadata": {},
   "outputs": [
    {
     "name": "stdout",
     "output_type": "stream",
     "text": [
      "[INFO] Nombre total de caractéristiques  = 511 \n",
      "[INFO] Nombre de caractéristiques corrélées = 181 \n",
      "[INFO] Nombre de caractéristiques non corrélées = 330 \n"
     ]
    }
   ],
   "source": [
    "print(\"[INFO] Nombre total de caractéristiques  = {} \".format(X.shape[1]))\n",
    "print(\"[INFO] Nombre de caractéristiques corrélées = {} \".format(len(correlated_features)))\n",
    "print(\"[INFO] Nombre de caractéristiques non corrélées = {} \".format(Xtrain_corr.shape[1]))"
   ]
  },
  {
   "cell_type": "markdown",
   "id": "58a33118",
   "metadata": {},
   "source": [
    "### Model without Correlation"
   ]
  },
  {
   "cell_type": "code",
   "execution_count": 52,
   "id": "86e26657",
   "metadata": {},
   "outputs": [
    {
     "name": "stdout",
     "output_type": "stream",
     "text": [
      "[INFO] Applying took 0.03 min\n",
      "[INFO] Accuracy 76.80 %\n"
     ]
    }
   ],
   "source": [
    "kf = KFold(n_splits=5, random_state = 0, shuffle = True)\n",
    "start = time.time()\n",
    "mean_all = cross_val_score(clf, Xtrain, ytrain, cv=kf, scoring = 'accuracy').mean()\n",
    "end = time.time()\n",
    "run_time_all = (end - start)\n",
    "print(\"[INFO] Applying took {:.2f} min\".format(run_time_all/60))\n",
    "print(\"[INFO] Accuracy {:.2f} %\".format(mean_all*100))"
   ]
  },
  {
   "cell_type": "code",
   "execution_count": 19,
   "id": "91271e1e",
   "metadata": {},
   "outputs": [
    {
     "name": "stdout",
     "output_type": "stream",
     "text": [
      "[INFO] Applying took 0.01 min\n",
      "Model Performance\n",
      "Average Error: 0.18 %.\n",
      "Accuracy = 0.82%.\n",
      "Classification_report :\n",
      "               precision    recall  f1-score   support\n",
      "\n",
      "           0       0.96      1.00      0.98        22\n",
      "           1       0.92      0.96      0.94        25\n",
      "           2       0.64      0.54      0.58        26\n",
      "           3       0.84      0.96      0.90        28\n",
      "           4       0.68      0.62      0.65        24\n",
      "\n",
      "    accuracy                           0.82       125\n",
      "   macro avg       0.81      0.82      0.81       125\n",
      "weighted avg       0.81      0.82      0.81       125\n",
      "\n",
      "Confusion_Matrix : \n",
      "\n"
     ]
    },
    {
     "data": {
      "image/png": "[encoded data removed]",
      "text/plain": [
       "<Figure size 576x576 with 1 Axes>"
      ]
     },
     "metadata": {},
     "output_type": "display_data"
    }
   ],
   "source": [
    "start = time.time()\n",
    "model =clf.fit(Xtrain,ytrain)\n",
    "end = time.time()\n",
    "run_time_all = (end - start)\n",
    "print(\"[INFO] Applying took {:.2f} min\".format(run_time_all/60))\n",
    "evaluate(model,Xtest, ytest)"
   ]
  },
  {
   "cell_type": "markdown",
   "id": "3986cfc9",
   "metadata": {},
   "source": [
    "### Model with correlation "
   ]
  },
  {
   "cell_type": "code",
   "execution_count": 43,
   "id": "4c89d559",
   "metadata": {},
   "outputs": [
    {
     "name": "stdout",
     "output_type": "stream",
     "text": [
      "[INFO] Applying took 70.56 min\n"
     ]
    }
   ],
   "source": [
    "#Chercher les meilleurs parammetres pouyr le modèle randomforest\n",
    "randomizedsearch_corr = hyperparameter_tuning_randomforestClassifier(Xtrain_corr,ytrain, Xtest_corr, ytest)"
   ]
  },
  {
   "cell_type": "code",
   "execution_count": 45,
   "id": "252b0769",
   "metadata": {},
   "outputs": [],
   "source": [
    "clf_corr = randomizedsearch_corr.best_estimator_"
   ]
  },
  {
   "cell_type": "code",
   "execution_count": 48,
   "id": "4ea91e77",
   "metadata": {},
   "outputs": [
    {
     "name": "stdout",
     "output_type": "stream",
     "text": [
      "[INFO] Applying took 0.12 min\n",
      "[INFO] Accuracy 73.33 %\n"
     ]
    }
   ],
   "source": [
    "kf = KFold(n_splits=5, random_state = 0, shuffle = True)\n",
    "start = time.time()\n",
    "mean_all = cross_val_score(clf_corr, Xtrain_corr, ytrain, cv=kf, scoring = 'accuracy').mean()\n",
    "end = time.time()\n",
    "run_time_all = (end - start)\n",
    "print(\"[INFO] Applying took {:.2f} min\".format(run_time_all/60))\n",
    "print(\"[INFO] Accuracy {:.2f} %\".format(mean_all*100))"
   ]
  },
  {
   "cell_type": "code",
   "execution_count": 55,
   "id": "c6674928",
   "metadata": {},
   "outputs": [
    {
     "name": "stdout",
     "output_type": "stream",
     "text": [
      "[INFO] Applying took 0.03 min\n",
      "Model Performance\n",
      "Average Error: 0.26 %.\n",
      "Accuracy = 0.74%.\n",
      "Classification_report :\n",
      "               precision    recall  f1-score   support\n",
      "\n",
      "           0       0.88      0.95      0.91        22\n",
      "           1       0.88      0.84      0.86        25\n",
      "           2       0.55      0.62      0.58        26\n",
      "           3       0.78      0.89      0.83        28\n",
      "           4       0.62      0.42      0.50        24\n",
      "\n",
      "    accuracy                           0.74       125\n",
      "   macro avg       0.74      0.74      0.74       125\n",
      "weighted avg       0.74      0.74      0.74       125\n",
      "\n",
      "Confusion_Matrix : \n",
      "\n"
     ]
    },
    {
     "data": {
      "image/png": "[encoded data removed]",
      "text/plain": [
       "<Figure size 576x576 with 1 Axes>"
      ]
     },
     "metadata": {},
     "output_type": "display_data"
    }
   ],
   "source": [
    "start = time.time()\n",
    "model =clf_corr.fit(Xtrain_corr,ytrain)\n",
    "end = time.time()\n",
    "run_time_all = (end - start)\n",
    "print(\"[INFO] Applying took {:.2f} min\".format(run_time_all/60))\n",
    "evaluate(model,Xtest_corr, ytest)"
   ]
  },
  {
   "cell_type": "code",
   "execution_count": null,
   "id": "94025171",
   "metadata": {},
   "outputs": [],
   "source": []
  }
 ],
 "metadata": {
  "kernelspec": {
   "display_name": "Python 3",
   "language": "python",
   "name": "python3"
  },
  "language_info": {
   "codemirror_mode": {
    "name": "ipython",
    "version": 3
   },
   "file_extension": ".py",
   "mimetype": "text/x-python",
   "name": "python",
   "nbconvert_exporter": "python",
   "pygments_lexer": "ipython3",
   "version": "3.8.8"
  }
 },
 "nbformat": 4,
 "nbformat_minor": 5
}
