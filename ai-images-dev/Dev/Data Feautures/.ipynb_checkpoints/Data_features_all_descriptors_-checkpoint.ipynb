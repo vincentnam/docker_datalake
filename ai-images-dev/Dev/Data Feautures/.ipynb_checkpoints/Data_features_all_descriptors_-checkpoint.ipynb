{
 "cells": [
  {
   "cell_type": "markdown",
   "id": "2f615d4d",
   "metadata": {},
   "source": [
    "### Importation des bibliothèques nécessaire"
   ]
  },
  {
   "cell_type": "code",
   "execution_count": 1,
   "id": "45deb0f9",
   "metadata": {},
   "outputs": [],
   "source": [
    "import cv2 \n",
    "import os\n",
    "import time\n",
    "import descriptors\n",
    "import numpy as np\n",
    "import pandas as pd"
   ]
  },
  {
   "cell_type": "markdown",
   "id": "ba2dd450",
   "metadata": {},
   "source": [
    "### Instanciation d'objet descriptor"
   ]
  },
  {
   "cell_type": "code",
   "execution_count": 2,
   "id": "4b113a0e",
   "metadata": {},
   "outputs": [],
   "source": [
    "d = descriptors.Descriptors(nbr_class = 5 , nbr_images =500)"
   ]
  },
  {
   "cell_type": "markdown",
   "id": "c25bf8e2",
   "metadata": {},
   "source": [
    "### Récupération des path"
   ]
  },
  {
   "cell_type": "code",
   "execution_count": 3,
   "id": "c39ea25e",
   "metadata": {},
   "outputs": [],
   "source": [
    "(Tempo,_) = os.path.split(os.getcwd())\n",
    "PATH_PROJECT,DEV = os.path.split(Tempo)\n",
    "PATH_DEV = os.path.join(PATH_PROJECT,'Dev')\n",
    "PATH_DATA = os.path.join(PATH_PROJECT,'Data')\n",
    "PATH_DATA_IMAGES = os.path.join(PATH_DATA,'Data Images')\n",
    "DATA_CBIRH_5_500 = os.path.join(PATH_DATA_IMAGES,'DATA_CBIRH_5_500')\n",
    "PATH_DATA_CSV = os.path.join(os.path.join(PATH_DATA,'Data Descriptors'),'Data Feautures_5_500')\n",
    "LIST_CLASS = os.listdir(DATA_CBIRH_5_500)\n",
    "\n",
    "PATH_LIST =[]\n",
    "for f in LIST_CLASS :\n",
    "    PATH_LIST.append(os.path.join(DATA_CBIRH_5_500,f))"
   ]
  },
  {
   "cell_type": "markdown",
   "id": "019b21b1",
   "metadata": {},
   "source": [
    "### Création des data features"
   ]
  },
  {
   "cell_type": "code",
   "execution_count": null,
   "id": "0baff5a7",
   "metadata": {},
   "outputs": [],
   "source": [
    "data = d.create_data_feautures_all_descriptors_without_header(PATH_LIST,PATH_DATA_CSV, 'DF_ALL_0.csv')"
   ]
  },
  {
   "cell_type": "code",
   "execution_count": null,
   "id": "e3cc9147",
   "metadata": {},
   "outputs": [],
   "source": [
    "### Afficher 10  premiers lignes de dataframe\n",
    "data.head(10)"
   ]
  },
  {
   "cell_type": "code",
   "execution_count": null,
   "id": "148b47b9",
   "metadata": {},
   "outputs": [],
   "source": []
  }
 ],
 "metadata": {
  "kernelspec": {
   "display_name": "Python 3",
   "language": "python",
   "name": "python3"
  },
  "language_info": {
   "codemirror_mode": {
    "name": "ipython",
    "version": 3
   },
   "file_extension": ".py",
   "mimetype": "text/x-python",
   "name": "python",
   "nbconvert_exporter": "python",
   "pygments_lexer": "ipython3",
   "version": "3.8.8"
  }
 },
 "nbformat": 4,
 "nbformat_minor": 5
}
