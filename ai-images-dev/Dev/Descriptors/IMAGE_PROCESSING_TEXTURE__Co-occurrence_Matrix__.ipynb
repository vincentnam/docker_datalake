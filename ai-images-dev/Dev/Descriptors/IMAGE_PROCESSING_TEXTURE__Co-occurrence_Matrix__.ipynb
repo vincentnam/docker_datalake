{
 "cells": [
  {
   "cell_type": "code",
   "execution_count": 1,
   "id": "ac3dc40a",
   "metadata": {},
   "outputs": [],
   "source": [
    "#importation des bibliothèques nécessaire\n",
    "import cv2 \n",
    "import os\n",
    "import time\n",
    "from skimage.feature import greycomatrix, greycoprops\n",
    "import numpy as np"
   ]
  },
  {
   "cell_type": "code",
   "execution_count": 2,
   "id": "75de5634",
   "metadata": {},
   "outputs": [],
   "source": [
    "(Tempo,_) = os.path.split(os.getcwd())\n",
    "PATH_PROJECT,DEV = os.path.split(Tempo)\n",
    "PATH_DEV = os.path.join(PATH_PROJECT,'Dev')\n",
    "PATH_DATA = os.path.join(PATH_PROJECT,'Data')\n",
    "PATH_DATA_IMAGES = os.path.join(PATH_DATA,'Data Images')\n",
    "DATA_CBIRH_5_500 = os.path.join(PATH_DATA_IMAGES,'DATA_CBIRH_5_500')\n",
    "LIST_CLASS = os.listdir(DATA_CBIRH_5_500)\n",
    "\n",
    "FRUIT = os.path.join(DATA_CBIRH_5_500,'fruit') \n",
    "img_fruit = cv2.imread(os.path.join(FRUIT,os.listdir(FRUIT)[19]),0)"
   ]
  },
  {
   "cell_type": "markdown",
   "id": "019b21b1",
   "metadata": {},
   "source": [
    "## Descripteurs de texture\n",
    "### 1. Matrice de coocurrence\n",
    "###  2. Mesures de Haralick : Liste de descripteurs "
   ]
  },
  {
   "cell_type": "code",
   "execution_count": 3,
   "id": "3c5c5b9c",
   "metadata": {},
   "outputs": [],
   "source": [
    "# Extration des caratérisqtiques de texture via la matrice de co-occurrence\n",
    "\n",
    "def DESCRIPTOR_TEXTURE_MATRIX_COCCURRENCE(image):\n",
    "    \"\"\"\n",
    "    Input : Image\n",
    "    Output : Vector of Features : ('dissimilarity','correlation', 'contrast','homogeneity','energy')\n",
    "    Compute the contrast for GLCMs with distances [1] and angles [0 degrees]\n",
    "    \"\"\"\n",
    "    start = time.time()\n",
    "    Vector = []\n",
    "    Features = ['dissimilarity','correlation', 'contrast','homogeneity','energy']  \n",
    "    Greycomatrix = greycomatrix(image, distances=[1], angles=[0], levels=256,symmetric=True, normed=False)\n",
    "    for f in Features:\n",
    "        item = greycoprops(Greycomatrix, f)[0, 0]\n",
    "        Vector.append(np.round(item,3))   \n",
    "    end = time.time()\n",
    "    print(\"[INFO] Applying took {:.2f} seconds\".format(end - start))\n",
    "    return Vector"
   ]
  },
  {
   "cell_type": "code",
   "execution_count": 5,
   "id": "3d199a0c",
   "metadata": {},
   "outputs": [
    {
     "name": "stdout",
     "output_type": "stream",
     "text": [
      "[INFO] Applying took 0.01 seconds\n"
     ]
    },
    {
     "data": {
      "text/plain": [
       "[3.432, 0.992, 90.152, 0.627, 0.525]"
      ]
     },
     "execution_count": 5,
     "metadata": {},
     "output_type": "execute_result"
    }
   ],
   "source": [
    "\"\"\"\n",
    "Input : Image Dog\n",
    "Output :  Vector of Features : ('dissimilarity','correlation', 'contrast','homogeneity','energy')\n",
    "\"\"\"\n",
    "#img_car,img_fruit,img_person,img_dog\n",
    "DESCRIPTOR_TEXTURE_MATRIX_COCCURRENCE(img_fruit)"
   ]
  },
  {
   "cell_type": "code",
   "execution_count": null,
   "id": "f38e7455",
   "metadata": {},
   "outputs": [],
   "source": []
  }
 ],
 "metadata": {
  "kernelspec": {
   "display_name": "Python 3",
   "language": "python",
   "name": "python3"
  },
  "language_info": {
   "codemirror_mode": {
    "name": "ipython",
    "version": 3
   },
   "file_extension": ".py",
   "mimetype": "text/x-python",
   "name": "python",
   "nbconvert_exporter": "python",
   "pygments_lexer": "ipython3",
   "version": "3.8.8"
  }
 },
 "nbformat": 4,
 "nbformat_minor": 5
}
