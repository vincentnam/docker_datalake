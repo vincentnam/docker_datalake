{
 "cells": [
  {
   "cell_type": "code",
   "execution_count": 1,
   "id": "bbae503e",
   "metadata": {},
   "outputs": [],
   "source": [
    "#importation des bibliothèques nécessaire\n",
    "import os\n",
    "import cv2 \n",
    "import time\n",
    "import math\n",
    "from skimage.io import imread"
   ]
  },
  {
   "cell_type": "code",
   "execution_count": 5,
   "id": "1ad9763b",
   "metadata": {},
   "outputs": [],
   "source": [
    "(Tempo,_) = os.path.split(os.getcwd())\n",
    "PATH_PROJECT,DEV = os.path.split(Tempo)\n",
    "PATH_DEV = os.path.join(PATH_PROJECT,'Dev')\n",
    "PATH_DATA = os.path.join(PATH_PROJECT,'Data')\n",
    "PATH_DATA_IMAGES = os.path.join(PATH_DATA,'Data Images')\n",
    "DATA_CBIRH_5_500 = os.path.join(PATH_DATA_IMAGES,'DATA_CBIRH_5_500')\n",
    "LIST_CLASS = os.listdir(DATA_CBIRH_5_500)\n",
    "\n",
    "FRUIT = os.path.join(DATA_CBIRH_5_500,'fruit') \n",
    "img_fruit = cv2.imread(os.path.join(FRUIT,os.listdir(FRUIT)[19]),0)"
   ]
  },
  {
   "cell_type": "code",
   "execution_count": 6,
   "id": "cbc136e9",
   "metadata": {},
   "outputs": [],
   "source": [
    "def descriprot_moments_Hu(image) :\n",
    "    \"\"\"\n",
    "    Input : Image\n",
    "    \n",
    "    Output : Vector  : ('M1', 'M2', 'M3', 'M4', 'M5', 'M6', 'M7')\n",
    "    \n",
    "    calcule fréquence des pixels (comprises entre 0 et 255) en échelle de color\n",
    "    \"\"\"\n",
    "    start = time.time()\n",
    "    Vector = []\n",
    "    image_binary = cv2.threshold(image, 127, 255, cv2.THRESH_BINARY)[1]\n",
    "    # Calculate Moments \n",
    "    moments = cv2.moments(image_binary) \n",
    "    # Calculate Hu Moments \n",
    "    huMoments = cv2.HuMoments(moments)\n",
    "    # Log scale hu moments\n",
    "    for i in range(0,7):\n",
    "       Vector.append(-1* math.copysign(1.0, huMoments[i]) * math.log10(abs(huMoments[i])))\n",
    "    end = time.time()\n",
    "    print(\"[INFO] Applying took {:.2f} seconds\".format(end - start))\n",
    "    return Vector"
   ]
  },
  {
   "cell_type": "code",
   "execution_count": 7,
   "id": "dfc70ba4",
   "metadata": {},
   "outputs": [
    {
     "name": "stdout",
     "output_type": "stream",
     "text": [
      "[INFO] Applying took 0.01 seconds\n"
     ]
    },
    {
     "data": {
      "text/plain": [
       "[2.962694211776144,\n",
       " 8.780669355933995,\n",
       " 11.565297696502112,\n",
       " 11.364450562849404,\n",
       " -22.84958606486382,\n",
       " -15.766316960212551,\n",
       " 23.354419341397502]"
      ]
     },
     "execution_count": 7,
     "metadata": {},
     "output_type": "execute_result"
    }
   ],
   "source": [
    "\"\"\"\n",
    "Input : Image\n",
    "Output : Vector of Features : ('M1', 'M2', 'M3', 'M4', 'M5', 'M6', 'M7')\n",
    "\"\"\"\n",
    "descriprot_moments_Hu(img_fruit)"
   ]
  }
 ],
 "metadata": {
  "kernelspec": {
   "display_name": "Python 3",
   "language": "python",
   "name": "python3"
  },
  "language_info": {
   "codemirror_mode": {
    "name": "ipython",
    "version": 3
   },
   "file_extension": ".py",
   "mimetype": "text/x-python",
   "name": "python",
   "nbconvert_exporter": "python",
   "pygments_lexer": "ipython3",
   "version": "3.8.8"
  }
 },
 "nbformat": 4,
 "nbformat_minor": 5
}
