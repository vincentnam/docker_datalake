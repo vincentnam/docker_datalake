{
 "cells": [
  {
   "cell_type": "code",
   "execution_count": 1,
   "id": "840c104f",
   "metadata": {},
   "outputs": [],
   "source": [
    "#importation des bibliothèques nécessaire\n",
    "import cv2 \n",
    "import os\n",
    "import time\n",
    "import numpy as np\n",
    "from skimage.io import imread\n",
    "from scipy.stats import kurtosis, entropy\n"
   ]
  },
  {
   "cell_type": "code",
   "execution_count": 2,
   "id": "ae9fa4a4",
   "metadata": {},
   "outputs": [],
   "source": [
    "(Tempo,_) = os.path.split(os.getcwd())\n",
    "PATH_PROJECT,DEV = os.path.split(Tempo)\n",
    "PATH_DEV = os.path.join(PATH_PROJECT,'Dev')\n",
    "PATH_DATA = os.path.join(PATH_PROJECT,'Data')\n",
    "PATH_DATA_IMAGES = os.path.join(PATH_DATA,'Data Images')\n",
    "DATA_CBIRH_5_500 = os.path.join(PATH_DATA_IMAGES,'DATA_CBIRH_5_500')\n",
    "LIST_CLASS = os.listdir(DATA_CBIRH_5_500)\n",
    "\n",
    "FRUIT = os.path.join(DATA_CBIRH_5_500,'fruit') \n",
    "img_fruit = cv2.imread(os.path.join(FRUIT,os.listdir(FRUIT)[19]),0)"
   ]
  },
  {
   "cell_type": "code",
   "execution_count": 3,
   "id": "beb6b1f8",
   "metadata": {},
   "outputs": [],
   "source": [
    "def descriprot_texture_hitogramme(image) :\n",
    "    \"\"\"\n",
    "    Input : Image\n",
    "    \n",
    "    Output : Vector  : ('mean_color_gray', 'var_color_gray', 'kurtosis_color_gray', 'entropy_color_gray',)\n",
    "    \n",
    "    calcule fréquence des pixels (comprises entre 0 et 255) en échelle de color\n",
    "    \"\"\"\n",
    "    start = time.time()\n",
    "    Vector = []\n",
    "    #cv2.calcHist (images, canaux, masque, histSize, plages )\n",
    "    dst = cv2.calcHist(image, [0], None, [256], [0, 256])\n",
    "    Vector.append(np.mean(dst))\n",
    "    Vector.append(np.var(dst))\n",
    "    k = kurtosis(dst,axis = 0)\n",
    "    Vector.append(k[0])\n",
    "    e = entropy(dst)\n",
    "    Vector.append(e[0])\n",
    "                \n",
    "    end = time.time()\n",
    "    print(\"[INFO] Applying took {:.2f} seconds\".format(end - start))\n",
    "    return Vector"
   ]
  },
  {
   "cell_type": "code",
   "execution_count": 5,
   "id": "c67e0fd3",
   "metadata": {},
   "outputs": [
    {
     "name": "stdout",
     "output_type": "stream",
     "text": [
      "[INFO] Applying took 0.00 seconds\n"
     ]
    },
    {
     "data": {
      "text/plain": [
       "[0.390625, 38.909912, 251.00389, 0.0]"
      ]
     },
     "execution_count": 5,
     "metadata": {},
     "output_type": "execute_result"
    }
   ],
   "source": [
    "\"\"\"\n",
    "Input : Image Fruit\n",
    "Output :  Vector  : ('mean_color_gray', 'var_color_gray', 'kurtosis_color_gray', 'entropy_color_gray',)\n",
    "\"\"\"\n",
    "#img_car,img_fruit,img_person,img_dog\n",
    "descriprot_texture_hitogramme(img_fruit)\n"
   ]
  },
  {
   "cell_type": "code",
   "execution_count": null,
   "id": "f3d9b5e0",
   "metadata": {},
   "outputs": [],
   "source": []
  }
 ],
 "metadata": {
  "kernelspec": {
   "display_name": "Python 3",
   "language": "python",
   "name": "python3"
  },
  "language_info": {
   "codemirror_mode": {
    "name": "ipython",
    "version": 3
   },
   "file_extension": ".py",
   "mimetype": "text/x-python",
   "name": "python",
   "nbconvert_exporter": "python",
   "pygments_lexer": "ipython3",
   "version": "3.8.8"
  }
 },
 "nbformat": 4,
 "nbformat_minor": 5
}
