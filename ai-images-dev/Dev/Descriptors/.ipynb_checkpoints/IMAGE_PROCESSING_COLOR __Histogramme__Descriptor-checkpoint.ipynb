{
 "cells": [
  {
   "cell_type": "code",
   "execution_count": 10,
   "id": "840c104f",
   "metadata": {},
   "outputs": [],
   "source": [
    "#importation des bibliothèques nécessaire\n",
    "import cv2 \n",
    "import os\n",
    "import time\n",
    "from skimage.io import imread\n",
    "import numpy as np\n",
    "from scipy.stats import kurtosis, entropy"
   ]
  },
  {
   "cell_type": "code",
   "execution_count": 11,
   "id": "3e8840b9",
   "metadata": {},
   "outputs": [],
   "source": [
    "(Tempo,_) = os.path.split(os.getcwd())\n",
    "PATH_PROJECT,DEV = os.path.split(Tempo)\n",
    "PATH_DEV = os.path.join(PATH_PROJECT,'Dev')\n",
    "PATH_DATA = os.path.join(PATH_PROJECT,'Data')\n",
    "PATH_DATA_IMAGES = os.path.join(PATH_DATA,'Data Images')\n",
    "DATA_CBIRH_5_500 = os.path.join(PATH_DATA_IMAGES,'DATA_CBIRH_5_500')\n",
    "LIST_CLASS = os.listdir(DATA_CBIRH_5_500)\n",
    "\n",
    "FRUIT = os.path.join(DATA_CBIRH_5_500,'fruit') \n",
    "img_fruit = cv2.cvtColor(cv2.imread(os.path.join(FRUIT,os.listdir(FRUIT)[19])), cv2.COLOR_BGR2RGB)"
   ]
  },
  {
   "cell_type": "code",
   "execution_count": 12,
   "id": "73f7c1c7",
   "metadata": {},
   "outputs": [],
   "source": [
    "def descriprot_color_hitogramme(image) :\n",
    "    \"\"\"\n",
    "    Input : Image\n",
    "    \n",
    "    Output : Vector  : ('mean_color_1', 'var_color_1', 'kurtosis_color_1', 'entropy_color_1',\n",
    "                        'mean_color_2', 'var_color_2', 'kurtosis_color_2', 'entropy_color_2'\n",
    "                        'mean_color_3', 'var_color_3', 'kurtosis_color_3', 'entropy_color_3')\n",
    "    \n",
    "    calcule fréquence des pixels (comprises entre 0 et 255) en échelle de color\n",
    "    \"\"\"\n",
    "    start = time.time()\n",
    "    Vector = []\n",
    "    #cv2.calcHist (images, canaux, masque, histSize, plages )\n",
    "    for i, col in enumerate(['b', 'g', 'r']):\n",
    "        dst = cv2.calcHist(image, [i], None, [256], [0, 256])\n",
    "        Vector.append(np.mean(dst))\n",
    "        Vector.append(np.var(dst))\n",
    "        k = kurtosis(dst,axis = 0)\n",
    "        Vector.append(k[0])\n",
    "        e = entropy(dst)\n",
    "        Vector.append(e[0])\n",
    "                \n",
    "    end = time.time()\n",
    "    print(\"[INFO] Applying took {:.2f} seconds\".format(end - start))\n",
    "    return Vector"
   ]
  },
  {
   "cell_type": "code",
   "execution_count": 13,
   "id": "5795eaed",
   "metadata": {},
   "outputs": [
    {
     "name": "stdout",
     "output_type": "stream",
     "text": [
      "[INFO] Applying took 0.00 seconds\n"
     ]
    },
    {
     "data": {
      "text/plain": [
       "[1.171875,\n",
       " 350.18924,\n",
       " 251.00388,\n",
       " 0.0,\n",
       " 1.171875,\n",
       " 350.18924,\n",
       " 251.00388,\n",
       " 0.0,\n",
       " 1.171875,\n",
       " 350.18924,\n",
       " 251.00388,\n",
       " 0.0]"
      ]
     },
     "execution_count": 13,
     "metadata": {},
     "output_type": "execute_result"
    }
   ],
   "source": [
    "\"\"\"\n",
    "Input : Image Person\n",
    "Output :  Vector  : ('mean_color_1', 'var_color_1', 'kurtosis_color_1', 'entropy_color_1',\n",
    "                        'mean_color_2', 'var_color_2', 'kurtosis_color_2', 'entropy_color_2'\n",
    "                        'mean_color_3', 'var_color_3', 'kurtosis_color_3', 'entropy_color_3')\n",
    "\"\"\"\n",
    "#img_car,img_fruit,img_person,img_dog\n",
    "descriprot_color_hitogramme(img_fruit)"
   ]
  },
  {
   "cell_type": "code",
   "execution_count": null,
   "id": "7687464d",
   "metadata": {},
   "outputs": [],
   "source": []
  },
  {
   "cell_type": "code",
   "execution_count": null,
   "id": "bf89be3e",
   "metadata": {},
   "outputs": [],
   "source": []
  },
  {
   "cell_type": "code",
   "execution_count": null,
   "id": "dad206f4",
   "metadata": {},
   "outputs": [],
   "source": []
  }
 ],
 "metadata": {
  "kernelspec": {
   "display_name": "Python 3",
   "language": "python",
   "name": "python3"
  },
  "language_info": {
   "codemirror_mode": {
    "name": "ipython",
    "version": 3
   },
   "file_extension": ".py",
   "mimetype": "text/x-python",
   "name": "python",
   "nbconvert_exporter": "python",
   "pygments_lexer": "ipython3",
   "version": "3.8.8"
  }
 },
 "nbformat": 4,
 "nbformat_minor": 5
}
