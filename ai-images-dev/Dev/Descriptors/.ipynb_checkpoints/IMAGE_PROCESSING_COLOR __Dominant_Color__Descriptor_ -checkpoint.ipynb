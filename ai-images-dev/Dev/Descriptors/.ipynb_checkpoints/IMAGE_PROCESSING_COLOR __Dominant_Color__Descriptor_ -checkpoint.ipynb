{
 "cells": [
  {
   "cell_type": "code",
   "execution_count": 1,
   "id": "da94d2f8",
   "metadata": {},
   "outputs": [],
   "source": [
    "import shutil\n",
    "import os\n",
    "from pathlib import Path\n",
    "import cv2\n",
    "import numpy as np"
   ]
  },
  {
   "cell_type": "code",
   "execution_count": 2,
   "id": "616f6d28",
   "metadata": {},
   "outputs": [],
   "source": [
    "(Tempo,_) = os.path.split(os.getcwd())\n",
    "PATH_PROJECT,DEV = os.path.split(Tempo)\n",
    "PATH_DEV = os.path.join(PATH_PROJECT,'Dev')\n",
    "PATH_DATA = os.path.join(PATH_PROJECT,'Data')\n",
    "PATH_DATA_IMAGES = os.path.join(PATH_DATA,'Data Images')\n",
    "DATA_CBIRH_5_500 = os.path.join(PATH_DATA_IMAGES,'DATA_CBIRH_5_500')\n",
    "LIST_CLASS = os.listdir(DATA_CBIRH_5_500)\n",
    "\n",
    "FRUIT = os.path.join(DATA_CBIRH_5_500,'fruit') \n",
    "img_fruit = cv2.cvtColor(cv2.imread(os.path.join(FRUIT,os.listdir(FRUIT)[19])), cv2.COLOR_BGR2RGB)"
   ]
  },
  {
   "cell_type": "markdown",
   "id": "db638c55",
   "metadata": {},
   "source": [
    "## Image Descriptor :DOMINAN  COLOR  DESCRIPTOR(DCD)"
   ]
  },
  {
   "cell_type": "code",
   "execution_count": 3,
   "id": "6f2eae06",
   "metadata": {},
   "outputs": [],
   "source": [
    "def EXTRACT_FEATURS(hist,centroids):\n",
    "    \n",
    "    Vector = []\n",
    "    Features = []\n",
    "    for (percent, color) in zip(hist, centroids):     \n",
    "        color = list(color.flatten())        \n",
    "        color.append(percent*100 )\n",
    "        Features.append(color)    \n",
    "        #print(\"percent :\",np.round(percent*100,3),\"\\tcolor : \",color)\n",
    "    return Features\n",
    "\n",
    "def DOMINANT_COLOR_DESCRIPTOR(img):\n",
    "    \"\"\"\n",
    "    Input : Image\n",
    "    Output : Vector of Features : ('Color_1','Percent_1','Color_2','Percent_2'','Color_3','Percent_3')\n",
    "    \n",
    "    \"\"\"\n",
    "    # Convert Image from RGB to CIE LUV\n",
    "    img_Luv = cv2.cvtColor(img, cv2.COLOR_BGR2LUV)\n",
    "    pixels = np.float32(img_Luv.reshape(-1, 3))\n",
    "    # Nuber of class chosen by the elbow method\n",
    "    n_colors = 3\n",
    "    # Generate cluster centers using the kmeans() methode of opencv\n",
    "    criteria = (cv2.TERM_CRITERIA_EPS + cv2.TERM_CRITERIA_MAX_ITER, 200, .1)\n",
    "    flags = cv2.KMEANS_RANDOM_CENTERS\n",
    "    _, labels, centers = cv2.kmeans(pixels, n_colors, None, criteria, 10, flags)\n",
    "    # Generate the histogram to calculate the percent of each color \n",
    "    numLabels = np.arange(0, len(np.unique(labels)) + 1)\n",
    "    hist, bins = np.histogram(labels, bins = numLabels)\n",
    "    hist = hist.astype(\"float\")\n",
    "    hist /= hist.sum()\n",
    "    Features = EXTRACT_FEATURS(hist,centers)\n",
    "    Flat_Features = [np.round(item,3) for Sublist_Features in Features for item in Sublist_Features]\n",
    "    \n",
    "    return Flat_Features"
   ]
  },
  {
   "cell_type": "code",
   "execution_count": 5,
   "id": "38243e0d",
   "metadata": {},
   "outputs": [
    {
     "data": {
      "text/plain": [
       "[80.058,\n",
       " 86.122,\n",
       " 117.314,\n",
       " 23.92,\n",
       " 253.724,\n",
       " 95.905,\n",
       " 135.99,\n",
       " 60.37,\n",
       " 156.079,\n",
       " 75.78,\n",
       " 120.239,\n",
       " 15.71]"
      ]
     },
     "execution_count": 5,
     "metadata": {},
     "output_type": "execute_result"
    }
   ],
   "source": [
    "\"\"\"\n",
    "Input : Image\n",
    "Output : Vector of Features : ('Color_1','Percent_1','Color_2','Percent_2'','Color_3','Percent_3')\n",
    "\"\"\"\n",
    "#img_car,img_fruit,img_person,img_dog\n",
    "DOMINANT_COLOR_DESCRIPTOR(img_fruit)"
   ]
  },
  {
   "cell_type": "code",
   "execution_count": null,
   "id": "59eb326e",
   "metadata": {},
   "outputs": [],
   "source": []
  }
 ],
 "metadata": {
  "kernelspec": {
   "display_name": "Python 3",
   "language": "python",
   "name": "python3"
  },
  "language_info": {
   "codemirror_mode": {
    "name": "ipython",
    "version": 3
   },
   "file_extension": ".py",
   "mimetype": "text/x-python",
   "name": "python",
   "nbconvert_exporter": "python",
   "pygments_lexer": "ipython3",
   "version": "3.8.8"
  }
 },
 "nbformat": 4,
 "nbformat_minor": 5
}
